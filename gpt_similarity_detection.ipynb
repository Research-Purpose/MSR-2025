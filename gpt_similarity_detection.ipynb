{
 "cells": [
  {
   "cell_type": "code",
   "execution_count": 1,
   "metadata": {},
   "outputs": [
    {
     "name": "stdout",
     "output_type": "stream",
     "text": [
      "Generating embeddings for original content...\n"
     ]
    },
    {
     "data": {
      "application/vnd.jupyter.widget-view+json": {
       "model_id": "505e9d6f44bb458287e4d3989aaf2317",
       "version_major": 2,
       "version_minor": 0
      },
      "text/plain": [
       "Batches:   0%|          | 0/5 [00:00<?, ?it/s]"
      ]
     },
     "metadata": {},
     "output_type": "display_data"
    },
    {
     "data": {
      "application/vnd.jupyter.widget-view+json": {
       "model_id": "9e070c8882c74590b6b7aca0127e1055",
       "version_major": 2,
       "version_minor": 0
      },
      "text/plain": [
       "Batches:   0%|          | 0/5 [00:00<?, ?it/s]"
      ]
     },
     "metadata": {},
     "output_type": "display_data"
    },
    {
     "data": {
      "application/vnd.jupyter.widget-view+json": {
       "model_id": "98b0e2fa77554dc8b9701c15c784d3a0",
       "version_major": 2,
       "version_minor": 0
      },
      "text/plain": [
       "Batches:   0%|          | 0/5 [00:00<?, ?it/s]"
      ]
     },
     "metadata": {},
     "output_type": "display_data"
    },
    {
     "name": "stdout",
     "output_type": "stream",
     "text": [
      "\n",
      "Generating embeddings for LLM responses...\n"
     ]
    },
    {
     "data": {
      "application/vnd.jupyter.widget-view+json": {
       "model_id": "37e0622bb2e342acb8b9689f571a6b3f",
       "version_major": 2,
       "version_minor": 0
      },
      "text/plain": [
       "Batches:   0%|          | 0/5 [00:00<?, ?it/s]"
      ]
     },
     "metadata": {},
     "output_type": "display_data"
    },
    {
     "data": {
      "application/vnd.jupyter.widget-view+json": {
       "model_id": "9333f6d8785c441c8dd20f4fb8293326",
       "version_major": 2,
       "version_minor": 0
      },
      "text/plain": [
       "Batches:   0%|          | 0/5 [00:00<?, ?it/s]"
      ]
     },
     "metadata": {},
     "output_type": "display_data"
    },
    {
     "data": {
      "application/vnd.jupyter.widget-view+json": {
       "model_id": "71d37685e9d449afbd1411e8db855746",
       "version_major": 2,
       "version_minor": 0
      },
      "text/plain": [
       "Batches:   0%|          | 0/5 [00:00<?, ?it/s]"
      ]
     },
     "metadata": {},
     "output_type": "display_data"
    },
    {
     "data": {
      "application/vnd.jupyter.widget-view+json": {
       "model_id": "391865ffd3444e3196c6a61f933f3036",
       "version_major": 2,
       "version_minor": 0
      },
      "text/plain": [
       "Batches:   0%|          | 0/5 [00:00<?, ?it/s]"
      ]
     },
     "metadata": {},
     "output_type": "display_data"
    },
    {
     "data": {
      "application/vnd.jupyter.widget-view+json": {
       "model_id": "10539059b41345208021228b10b2c426",
       "version_major": 2,
       "version_minor": 0
      },
      "text/plain": [
       "Batches:   0%|          | 0/5 [00:00<?, ?it/s]"
      ]
     },
     "metadata": {},
     "output_type": "display_data"
    },
    {
     "data": {
      "application/vnd.jupyter.widget-view+json": {
       "model_id": "9a22ccae12564ed99bfd0a9cdcdca0cd",
       "version_major": 2,
       "version_minor": 0
      },
      "text/plain": [
       "Batches:   0%|          | 0/5 [00:00<?, ?it/s]"
      ]
     },
     "metadata": {},
     "output_type": "display_data"
    },
    {
     "data": {
      "application/vnd.jupyter.widget-view+json": {
       "model_id": "c380798d3ab345d4baaf6c454d1fefe5",
       "version_major": 2,
       "version_minor": 0
      },
      "text/plain": [
       "Batches:   0%|          | 0/5 [00:00<?, ?it/s]"
      ]
     },
     "metadata": {},
     "output_type": "display_data"
    },
    {
     "data": {
      "application/vnd.jupyter.widget-view+json": {
       "model_id": "c27e09fe10514f7491f35bf1bb929ca7",
       "version_major": 2,
       "version_minor": 0
      },
      "text/plain": [
       "Batches:   0%|          | 0/5 [00:00<?, ?it/s]"
      ]
     },
     "metadata": {},
     "output_type": "display_data"
    },
    {
     "data": {
      "application/vnd.jupyter.widget-view+json": {
       "model_id": "1c75b5f015504169b9da9302f73d4c4d",
       "version_major": 2,
       "version_minor": 0
      },
      "text/plain": [
       "Batches:   0%|          | 0/5 [00:00<?, ?it/s]"
      ]
     },
     "metadata": {},
     "output_type": "display_data"
    },
    {
     "name": "stdout",
     "output_type": "stream",
     "text": [
      "\n",
      "TITLE Response Analysis:\n",
      "\n",
      "ZERO_SHOT:\n",
      "\n",
      "Basic Statistics:\n",
      "mean: 0.4350\n",
      "median: 0.4398\n",
      "std: 0.2173\n",
      "min: -0.0140\n",
      "max: 0.8970\n",
      "\n",
      "Distribution across categories:\n",
      "Very High: 2.80%\n",
      "High: 23.78%\n",
      "Moderate: 31.47%\n",
      "Low: 25.17%\n",
      "Very Low: 16.08%\n",
      "\n",
      "FEW_SHOT:\n",
      "\n",
      "Basic Statistics:\n",
      "mean: 0.4248\n",
      "median: 0.4154\n",
      "std: 0.2217\n",
      "min: -0.0189\n",
      "max: 0.9739\n",
      "\n",
      "Distribution across categories:\n",
      "Very High: 5.59%\n",
      "High: 16.78%\n",
      "Moderate: 30.77%\n",
      "Low: 28.67%\n",
      "Very Low: 17.48%\n",
      "\n",
      "COT:\n",
      "\n",
      "Basic Statistics:\n",
      "mean: 0.4370\n",
      "median: 0.4300\n",
      "std: 0.2252\n",
      "min: -0.0189\n",
      "max: 0.9138\n",
      "\n",
      "Distribution across categories:\n",
      "Very High: 4.90%\n",
      "High: 23.08%\n",
      "Moderate: 29.37%\n",
      "Low: 23.78%\n",
      "Very Low: 18.18%\n",
      "\n",
      "BODY Response Analysis:\n",
      "\n",
      "ZERO_SHOT:\n",
      "\n",
      "Basic Statistics:\n",
      "mean: 0.5046\n",
      "median: 0.5201\n",
      "std: 0.2097\n",
      "min: -0.0391\n",
      "max: 0.8924\n",
      "\n",
      "Distribution across categories:\n",
      "Very High: 4.90%\n",
      "High: 32.87%\n",
      "Moderate: 31.47%\n",
      "Low: 22.38%\n",
      "Very Low: 7.69%\n",
      "\n",
      "FEW_SHOT:\n",
      "\n",
      "Basic Statistics:\n",
      "mean: 0.4724\n",
      "median: 0.4682\n",
      "std: 0.2043\n",
      "min: -0.0369\n",
      "max: 0.8933\n",
      "\n",
      "Distribution across categories:\n",
      "Very High: 5.59%\n",
      "High: 24.48%\n",
      "Moderate: 34.27%\n",
      "Low: 25.87%\n",
      "Very Low: 9.09%\n",
      "\n",
      "COT:\n",
      "\n",
      "Basic Statistics:\n",
      "mean: 0.4946\n",
      "median: 0.5216\n",
      "std: 0.2049\n",
      "min: -0.0439\n",
      "max: 0.8521\n",
      "\n",
      "Distribution across categories:\n",
      "Very High: 6.29%\n",
      "High: 27.27%\n",
      "Moderate: 34.97%\n",
      "Low: 18.88%\n",
      "Very Low: 11.89%\n",
      "\n",
      "COMBINED Response Analysis:\n",
      "\n",
      "ZERO_SHOT:\n",
      "\n",
      "Basic Statistics:\n",
      "mean: 0.5587\n",
      "median: 0.6051\n",
      "std: 0.2118\n",
      "min: -0.0704\n",
      "max: 0.9160\n",
      "\n",
      "Distribution across categories:\n",
      "Very High: 12.59%\n",
      "High: 38.46%\n",
      "Moderate: 24.48%\n",
      "Low: 17.48%\n",
      "Very Low: 6.29%\n",
      "\n",
      "FEW_SHOT:\n",
      "\n",
      "Basic Statistics:\n",
      "mean: 0.5367\n",
      "median: 0.5658\n",
      "std: 0.2053\n",
      "min: 0.0231\n",
      "max: 0.9010\n",
      "\n",
      "Distribution across categories:\n",
      "Very High: 9.09%\n",
      "High: 36.36%\n",
      "Moderate: 27.97%\n",
      "Low: 17.48%\n",
      "Very Low: 9.09%\n",
      "\n",
      "COT:\n",
      "\n",
      "Basic Statistics:\n",
      "mean: 0.5521\n",
      "median: 0.6015\n",
      "std: 0.2084\n",
      "min: 0.0386\n",
      "max: 0.8981\n",
      "\n",
      "Distribution across categories:\n",
      "Very High: 11.19%\n",
      "High: 39.86%\n",
      "Moderate: 24.48%\n",
      "Low: 17.48%\n",
      "Very Low: 6.99%\n",
      "Generating embeddings for original content...\n"
     ]
    },
    {
     "data": {
      "application/vnd.jupyter.widget-view+json": {
       "model_id": "ae9ee888bfe74f51981befea1de104f9",
       "version_major": 2,
       "version_minor": 0
      },
      "text/plain": [
       "Batches:   0%|          | 0/5 [00:00<?, ?it/s]"
      ]
     },
     "metadata": {},
     "output_type": "display_data"
    },
    {
     "data": {
      "application/vnd.jupyter.widget-view+json": {
       "model_id": "a0c9ca18c72248c49db971d38d22d878",
       "version_major": 2,
       "version_minor": 0
      },
      "text/plain": [
       "Batches:   0%|          | 0/5 [00:00<?, ?it/s]"
      ]
     },
     "metadata": {},
     "output_type": "display_data"
    },
    {
     "data": {
      "application/vnd.jupyter.widget-view+json": {
       "model_id": "08d62290a45146749ef978a75ff0f433",
       "version_major": 2,
       "version_minor": 0
      },
      "text/plain": [
       "Batches:   0%|          | 0/5 [00:00<?, ?it/s]"
      ]
     },
     "metadata": {},
     "output_type": "display_data"
    },
    {
     "name": "stdout",
     "output_type": "stream",
     "text": [
      "\n",
      "Generating embeddings for LLM responses...\n"
     ]
    },
    {
     "data": {
      "application/vnd.jupyter.widget-view+json": {
       "model_id": "c2cf5d63ad464163a8a35719228df173",
       "version_major": 2,
       "version_minor": 0
      },
      "text/plain": [
       "Batches:   0%|          | 0/5 [00:00<?, ?it/s]"
      ]
     },
     "metadata": {},
     "output_type": "display_data"
    },
    {
     "data": {
      "application/vnd.jupyter.widget-view+json": {
       "model_id": "f1cc4fba6eab49b7a69f9aac2d37da45",
       "version_major": 2,
       "version_minor": 0
      },
      "text/plain": [
       "Batches:   0%|          | 0/5 [00:00<?, ?it/s]"
      ]
     },
     "metadata": {},
     "output_type": "display_data"
    },
    {
     "data": {
      "application/vnd.jupyter.widget-view+json": {
       "model_id": "4a4b63c8474e42388c4b36201c28b631",
       "version_major": 2,
       "version_minor": 0
      },
      "text/plain": [
       "Batches:   0%|          | 0/5 [00:00<?, ?it/s]"
      ]
     },
     "metadata": {},
     "output_type": "display_data"
    },
    {
     "data": {
      "application/vnd.jupyter.widget-view+json": {
       "model_id": "f6933a4d12294cddaf1c831b2eb460a7",
       "version_major": 2,
       "version_minor": 0
      },
      "text/plain": [
       "Batches:   0%|          | 0/5 [00:00<?, ?it/s]"
      ]
     },
     "metadata": {},
     "output_type": "display_data"
    },
    {
     "data": {
      "application/vnd.jupyter.widget-view+json": {
       "model_id": "10e3dd0b2e59437fbc4db84f21673332",
       "version_major": 2,
       "version_minor": 0
      },
      "text/plain": [
       "Batches:   0%|          | 0/5 [00:00<?, ?it/s]"
      ]
     },
     "metadata": {},
     "output_type": "display_data"
    },
    {
     "data": {
      "application/vnd.jupyter.widget-view+json": {
       "model_id": "609e5209c7254a789c3212f0dc03d80d",
       "version_major": 2,
       "version_minor": 0
      },
      "text/plain": [
       "Batches:   0%|          | 0/5 [00:00<?, ?it/s]"
      ]
     },
     "metadata": {},
     "output_type": "display_data"
    },
    {
     "data": {
      "application/vnd.jupyter.widget-view+json": {
       "model_id": "9cb848e48f8a4190bd21bf0114b39409",
       "version_major": 2,
       "version_minor": 0
      },
      "text/plain": [
       "Batches:   0%|          | 0/5 [00:00<?, ?it/s]"
      ]
     },
     "metadata": {},
     "output_type": "display_data"
    },
    {
     "data": {
      "application/vnd.jupyter.widget-view+json": {
       "model_id": "49daee4a576d4f4d968990c73327fd50",
       "version_major": 2,
       "version_minor": 0
      },
      "text/plain": [
       "Batches:   0%|          | 0/5 [00:00<?, ?it/s]"
      ]
     },
     "metadata": {},
     "output_type": "display_data"
    },
    {
     "data": {
      "application/vnd.jupyter.widget-view+json": {
       "model_id": "80b01bf6f4764017b9251a64b23b3a82",
       "version_major": 2,
       "version_minor": 0
      },
      "text/plain": [
       "Batches:   0%|          | 0/5 [00:00<?, ?it/s]"
      ]
     },
     "metadata": {},
     "output_type": "display_data"
    },
    {
     "name": "stdout",
     "output_type": "stream",
     "text": [
      "\n",
      "TITLE Response Analysis:\n",
      "\n",
      "ZERO_SHOT:\n",
      "\n",
      "Basic Statistics:\n",
      "mean: 0.4561\n",
      "median: 0.4492\n",
      "std: 0.2215\n",
      "min: -0.0331\n",
      "max: 0.9435\n",
      "\n",
      "Distribution across categories:\n",
      "Very High: 6.29%\n",
      "High: 26.57%\n",
      "Moderate: 25.17%\n",
      "Low: 27.27%\n",
      "Very Low: 13.99%\n",
      "\n",
      "FEW_SHOT:\n",
      "\n",
      "Basic Statistics:\n",
      "mean: 0.4453\n",
      "median: 0.4525\n",
      "std: 0.2297\n",
      "min: -0.0264\n",
      "max: 0.9809\n",
      "\n",
      "Distribution across categories:\n",
      "Very High: 6.29%\n",
      "High: 19.58%\n",
      "Moderate: 34.27%\n",
      "Low: 21.68%\n",
      "Very Low: 16.78%\n",
      "\n",
      "COT:\n",
      "\n",
      "Basic Statistics:\n",
      "mean: 0.4539\n",
      "median: 0.4557\n",
      "std: 0.2376\n",
      "min: -0.0296\n",
      "max: 0.9612\n",
      "\n",
      "Distribution across categories:\n",
      "Very High: 9.09%\n",
      "High: 20.98%\n",
      "Moderate: 27.97%\n",
      "Low: 24.48%\n",
      "Very Low: 16.78%\n",
      "\n",
      "BODY Response Analysis:\n",
      "\n",
      "ZERO_SHOT:\n",
      "\n",
      "Basic Statistics:\n",
      "mean: 0.5215\n",
      "median: 0.5378\n",
      "std: 0.1935\n",
      "min: -0.0131\n",
      "max: 0.9503\n",
      "\n",
      "Distribution across categories:\n",
      "Very High: 7.69%\n",
      "High: 30.07%\n",
      "Moderate: 37.06%\n",
      "Low: 18.88%\n",
      "Very Low: 5.59%\n",
      "\n",
      "FEW_SHOT:\n",
      "\n",
      "Basic Statistics:\n",
      "mean: 0.4907\n",
      "median: 0.4961\n",
      "std: 0.1933\n",
      "min: -0.0568\n",
      "max: 0.9164\n",
      "\n",
      "Distribution across categories:\n",
      "Very High: 4.20%\n",
      "High: 25.87%\n",
      "Moderate: 39.16%\n",
      "Low: 23.08%\n",
      "Very Low: 6.29%\n",
      "\n",
      "COT:\n",
      "\n",
      "Basic Statistics:\n",
      "mean: 0.5155\n",
      "median: 0.5281\n",
      "std: 0.1935\n",
      "min: -0.0081\n",
      "max: 0.9496\n",
      "\n",
      "Distribution across categories:\n",
      "Very High: 6.99%\n",
      "High: 32.87%\n",
      "Moderate: 34.97%\n",
      "Low: 19.58%\n",
      "Very Low: 4.90%\n",
      "\n",
      "COMBINED Response Analysis:\n",
      "\n",
      "ZERO_SHOT:\n",
      "\n",
      "Basic Statistics:\n",
      "mean: 0.5862\n",
      "median: 0.6097\n",
      "std: 0.1906\n",
      "min: 0.0025\n",
      "max: 0.9582\n",
      "\n",
      "Distribution across categories:\n",
      "Very High: 10.49%\n",
      "High: 41.26%\n",
      "Moderate: 32.17%\n",
      "Low: 11.89%\n",
      "Very Low: 4.20%\n",
      "\n",
      "FEW_SHOT:\n",
      "\n",
      "Basic Statistics:\n",
      "mean: 0.5616\n",
      "median: 0.5786\n",
      "std: 0.1908\n",
      "min: -0.0199\n",
      "max: 0.9418\n",
      "\n",
      "Distribution across categories:\n",
      "Very High: 9.79%\n",
      "High: 34.27%\n",
      "Moderate: 37.06%\n",
      "Low: 14.69%\n",
      "Very Low: 3.50%\n",
      "\n",
      "COT:\n",
      "\n",
      "Basic Statistics:\n",
      "mean: 0.5766\n",
      "median: 0.5986\n",
      "std: 0.1891\n",
      "min: 0.0168\n",
      "max: 0.9343\n",
      "\n",
      "Distribution across categories:\n",
      "Very High: 9.09%\n",
      "High: 40.56%\n",
      "Moderate: 34.97%\n",
      "Low: 9.79%\n",
      "Very Low: 5.59%\n",
      "Generating embeddings for original content...\n"
     ]
    },
    {
     "data": {
      "application/vnd.jupyter.widget-view+json": {
       "model_id": "3dd7267d82d64145bec87c230ad35b69",
       "version_major": 2,
       "version_minor": 0
      },
      "text/plain": [
       "Batches:   0%|          | 0/5 [00:00<?, ?it/s]"
      ]
     },
     "metadata": {},
     "output_type": "display_data"
    },
    {
     "data": {
      "application/vnd.jupyter.widget-view+json": {
       "model_id": "1f127936b52e4a4a8831d48e80a3892f",
       "version_major": 2,
       "version_minor": 0
      },
      "text/plain": [
       "Batches:   0%|          | 0/5 [00:00<?, ?it/s]"
      ]
     },
     "metadata": {},
     "output_type": "display_data"
    },
    {
     "data": {
      "application/vnd.jupyter.widget-view+json": {
       "model_id": "e392e3b49eaf491d897581ceb3505e35",
       "version_major": 2,
       "version_minor": 0
      },
      "text/plain": [
       "Batches:   0%|          | 0/5 [00:00<?, ?it/s]"
      ]
     },
     "metadata": {},
     "output_type": "display_data"
    },
    {
     "name": "stdout",
     "output_type": "stream",
     "text": [
      "\n",
      "Generating embeddings for LLM responses...\n"
     ]
    },
    {
     "data": {
      "application/vnd.jupyter.widget-view+json": {
       "model_id": "a2ea82ea782345cd8006020a98d91c94",
       "version_major": 2,
       "version_minor": 0
      },
      "text/plain": [
       "Batches:   0%|          | 0/5 [00:00<?, ?it/s]"
      ]
     },
     "metadata": {},
     "output_type": "display_data"
    },
    {
     "data": {
      "application/vnd.jupyter.widget-view+json": {
       "model_id": "ff4fed860b404ac3a02857de9b2f06cb",
       "version_major": 2,
       "version_minor": 0
      },
      "text/plain": [
       "Batches:   0%|          | 0/5 [00:00<?, ?it/s]"
      ]
     },
     "metadata": {},
     "output_type": "display_data"
    },
    {
     "data": {
      "application/vnd.jupyter.widget-view+json": {
       "model_id": "579ceb793ad24765a9171e81f2cf567c",
       "version_major": 2,
       "version_minor": 0
      },
      "text/plain": [
       "Batches:   0%|          | 0/5 [00:00<?, ?it/s]"
      ]
     },
     "metadata": {},
     "output_type": "display_data"
    },
    {
     "data": {
      "application/vnd.jupyter.widget-view+json": {
       "model_id": "ba9f6ae940694727ac13ba766fd43b6f",
       "version_major": 2,
       "version_minor": 0
      },
      "text/plain": [
       "Batches:   0%|          | 0/5 [00:00<?, ?it/s]"
      ]
     },
     "metadata": {},
     "output_type": "display_data"
    },
    {
     "data": {
      "application/vnd.jupyter.widget-view+json": {
       "model_id": "8237d285b68148cbb0c48e8ce2a5f240",
       "version_major": 2,
       "version_minor": 0
      },
      "text/plain": [
       "Batches:   0%|          | 0/5 [00:00<?, ?it/s]"
      ]
     },
     "metadata": {},
     "output_type": "display_data"
    },
    {
     "data": {
      "application/vnd.jupyter.widget-view+json": {
       "model_id": "113d24ff2f6a44da8a976b54b190b827",
       "version_major": 2,
       "version_minor": 0
      },
      "text/plain": [
       "Batches:   0%|          | 0/5 [00:00<?, ?it/s]"
      ]
     },
     "metadata": {},
     "output_type": "display_data"
    },
    {
     "data": {
      "application/vnd.jupyter.widget-view+json": {
       "model_id": "ecb883e1db2d4f57aed24c15b99f6f62",
       "version_major": 2,
       "version_minor": 0
      },
      "text/plain": [
       "Batches:   0%|          | 0/5 [00:00<?, ?it/s]"
      ]
     },
     "metadata": {},
     "output_type": "display_data"
    },
    {
     "data": {
      "application/vnd.jupyter.widget-view+json": {
       "model_id": "6aac1267c3ed41ceaba9364d94b8d1f3",
       "version_major": 2,
       "version_minor": 0
      },
      "text/plain": [
       "Batches:   0%|          | 0/5 [00:00<?, ?it/s]"
      ]
     },
     "metadata": {},
     "output_type": "display_data"
    },
    {
     "data": {
      "application/vnd.jupyter.widget-view+json": {
       "model_id": "1e24b247a04c4ccb88f5b0b4e175183b",
       "version_major": 2,
       "version_minor": 0
      },
      "text/plain": [
       "Batches:   0%|          | 0/5 [00:00<?, ?it/s]"
      ]
     },
     "metadata": {},
     "output_type": "display_data"
    },
    {
     "name": "stdout",
     "output_type": "stream",
     "text": [
      "\n",
      "TITLE Response Analysis:\n",
      "\n",
      "ZERO_SHOT:\n",
      "\n",
      "Basic Statistics:\n",
      "mean: 0.5971\n",
      "median: 0.5963\n",
      "std: 0.1495\n",
      "min: 0.2466\n",
      "max: 0.9380\n",
      "\n",
      "Distribution across categories:\n",
      "Very High: 8.39%\n",
      "High: 41.26%\n",
      "Moderate: 39.86%\n",
      "Low: 10.49%\n",
      "Very Low: 0.00%\n",
      "\n",
      "FEW_SHOT:\n",
      "\n",
      "Basic Statistics:\n",
      "mean: 0.5879\n",
      "median: 0.5895\n",
      "std: 0.1542\n",
      "min: 0.2504\n",
      "max: 0.9715\n",
      "\n",
      "Distribution across categories:\n",
      "Very High: 9.79%\n",
      "High: 36.36%\n",
      "Moderate: 40.56%\n",
      "Low: 13.29%\n",
      "Very Low: 0.00%\n",
      "\n",
      "COT:\n",
      "\n",
      "Basic Statistics:\n",
      "mean: 0.5909\n",
      "median: 0.6016\n",
      "std: 0.1585\n",
      "min: 0.2224\n",
      "max: 0.9297\n",
      "\n",
      "Distribution across categories:\n",
      "Very High: 8.39%\n",
      "High: 43.36%\n",
      "Moderate: 37.06%\n",
      "Low: 11.19%\n",
      "Very Low: 0.00%\n",
      "\n",
      "BODY Response Analysis:\n",
      "\n",
      "ZERO_SHOT:\n",
      "\n",
      "Basic Statistics:\n",
      "mean: 0.7142\n",
      "median: 0.7265\n",
      "std: 0.1182\n",
      "min: 0.2825\n",
      "max: 0.9454\n",
      "\n",
      "Distribution across categories:\n",
      "Very High: 21.68%\n",
      "High: 61.54%\n",
      "Moderate: 15.38%\n",
      "Low: 1.40%\n",
      "Very Low: 0.00%\n",
      "\n",
      "FEW_SHOT:\n",
      "\n",
      "Basic Statistics:\n",
      "mean: 0.6974\n",
      "median: 0.7024\n",
      "std: 0.1097\n",
      "min: 0.3284\n",
      "max: 0.9280\n",
      "\n",
      "Distribution across categories:\n",
      "Very High: 17.48%\n",
      "High: 65.03%\n",
      "Moderate: 16.78%\n",
      "Low: 0.70%\n",
      "Very Low: 0.00%\n",
      "\n",
      "COT:\n",
      "\n",
      "Basic Statistics:\n",
      "mean: 0.7087\n",
      "median: 0.7209\n",
      "std: 0.1079\n",
      "min: 0.3379\n",
      "max: 0.9383\n",
      "\n",
      "Distribution across categories:\n",
      "Very High: 18.88%\n",
      "High: 66.43%\n",
      "Moderate: 13.99%\n",
      "Low: 0.70%\n",
      "Very Low: 0.00%\n",
      "\n",
      "COMBINED Response Analysis:\n",
      "\n",
      "ZERO_SHOT:\n",
      "\n",
      "Basic Statistics:\n",
      "mean: 0.7215\n",
      "median: 0.7419\n",
      "std: 0.1262\n",
      "min: 0.2900\n",
      "max: 0.9587\n",
      "\n",
      "Distribution across categories:\n",
      "Very High: 28.67%\n",
      "High: 56.64%\n",
      "Moderate: 13.29%\n",
      "Low: 1.40%\n",
      "Very Low: 0.00%\n",
      "\n",
      "FEW_SHOT:\n",
      "\n",
      "Basic Statistics:\n",
      "mean: 0.7036\n",
      "median: 0.7117\n",
      "std: 0.1213\n",
      "min: 0.3387\n",
      "max: 0.9390\n",
      "\n",
      "Distribution across categories:\n",
      "Very High: 22.38%\n",
      "High: 58.74%\n",
      "Moderate: 18.18%\n",
      "Low: 0.70%\n",
      "Very Low: 0.00%\n",
      "\n",
      "COT:\n",
      "\n",
      "Basic Statistics:\n",
      "mean: 0.7123\n",
      "median: 0.7306\n",
      "std: 0.1193\n",
      "min: 0.3150\n",
      "max: 0.9424\n",
      "\n",
      "Distribution across categories:\n",
      "Very High: 21.68%\n",
      "High: 61.54%\n",
      "Moderate: 15.38%\n",
      "Low: 1.40%\n",
      "Very Low: 0.00%\n"
     ]
    }
   ],
   "source": [
    "# For gpt_similarity_detection.py and gemini_similarity_detection.py\n",
    "# Just change the paths from 'Data/GPT-4o/' to 'Data/Gemini/' for the Gemini version\n",
    "\n",
    "import pandas as pd\n",
    "import numpy as np\n",
    "from sentence_transformers import SentenceTransformer\n",
    "from sklearn.metrics.pairwise import cosine_similarity\n",
    "import matplotlib.pyplot as plt\n",
    "import seaborn as sns\n",
    "\n",
    "# First set of functions using all-mpnet-base-v1\n",
    "def create_embeddings_and_analyze(df, model_name='sentence-transformers/all-mpnet-base-v1'):\n",
    "    \"\"\"\n",
    "    Create embeddings using SentenceTransformer and analyze similarities for both\n",
    "    separate title/body responses and combined responses\n",
    "    \"\"\"\n",
    "    # Initialize the model\n",
    "    model = SentenceTransformer(model_name)\n",
    "    \n",
    "    # Generate embeddings for original content\n",
    "    print(\"Generating embeddings for original content...\")\n",
    "    title_embeddings = model.encode(df['Title'].tolist(), show_progress_bar=True)\n",
    "    body_embeddings = model.encode(df['Body'].tolist(), show_progress_bar=True)\n",
    "    title_body_embeddings = model.encode(df['Title_Body'].tolist(), show_progress_bar=True)\n",
    "    \n",
    "    # Generate embeddings for LLM responses\n",
    "    print(\"\\nGenerating embeddings for LLM responses...\")\n",
    "    response_embeddings = {\n",
    "        # Title responses\n",
    "        'zero_shot_title': model.encode(df['llm_zero_shot_title'].tolist(), show_progress_bar=True),\n",
    "        'few_shot_title': model.encode(df['llm_few_shot_title'].tolist(), show_progress_bar=True),\n",
    "        'cot_title': model.encode(df['llm_cot_title'].tolist(), show_progress_bar=True),\n",
    "        \n",
    "        # Body responses\n",
    "        'zero_shot_body': model.encode(df['llm_zero_shot_body'].tolist(), show_progress_bar=True),\n",
    "        'few_shot_body': model.encode(df['llm_few_shot_body'].tolist(), show_progress_bar=True),\n",
    "        'cot_body': model.encode(df['llm_cot_body'].tolist(), show_progress_bar=True),\n",
    "        \n",
    "        # Combined responses\n",
    "        'zero_shot_combined': model.encode(df['llm_zero_shot_combined'].tolist(), show_progress_bar=True),\n",
    "        'few_shot_combined': model.encode(df['llm_few_shot_combined'].tolist(), show_progress_bar=True),\n",
    "        'cot_combined': model.encode(df['llm_cot_combined'].tolist(), show_progress_bar=True)\n",
    "    }\n",
    "    \n",
    "    # Calculate similarities\n",
    "    similarities = {\n",
    "        'title': {},\n",
    "        'body': {},\n",
    "        'combined': {}\n",
    "    }\n",
    "    \n",
    "    # Calculate similarities for each type\n",
    "    for response_type in ['zero_shot', 'few_shot', 'cot']:\n",
    "        similarities['title'][response_type] = np.diagonal(\n",
    "            cosine_similarity(title_embeddings, response_embeddings[f'{response_type}_title'])\n",
    "        )\n",
    "        similarities['body'][response_type] = np.diagonal(\n",
    "            cosine_similarity(body_embeddings, response_embeddings[f'{response_type}_body'])\n",
    "        )\n",
    "        similarities['combined'][response_type] = np.diagonal(\n",
    "            cosine_similarity(title_body_embeddings, response_embeddings[f'{response_type}_combined'])\n",
    "        )\n",
    "    \n",
    "    # Add similarity scores to dataframe\n",
    "    for response_type in ['zero_shot', 'few_shot', 'cot']:\n",
    "        df[f'similarity_{response_type}_title'] = similarities['title'][response_type]\n",
    "        df[f'similarity_{response_type}_body'] = similarities['body'][response_type]\n",
    "        df[f'similarity_{response_type}_combined'] = similarities['combined'][response_type]\n",
    "    \n",
    "    # Save embeddings (using GPT-4o path - change to Gemini for gemini version)\n",
    "    np.save('Data/GPT-4o/title_embeddings_st.npy', title_embeddings)\n",
    "    np.save('Data/GPT-4o/body_embeddings_st.npy', body_embeddings)\n",
    "    np.save('Data/GPT-4o/title_body_embeddings_st.npy', title_body_embeddings)\n",
    "    \n",
    "    for response_type, embeddings in response_embeddings.items():\n",
    "        np.save(f'Data/GPT-4o/{response_type}_embeddings_st.npy', embeddings)\n",
    "    \n",
    "    return df, similarities\n",
    "\n",
    "# Second set using MiniLM\n",
    "def create_embeddings_and_analyze_minilm(df):\n",
    "    return create_embeddings_and_analyze(df, model_name='sentence-transformers/all-MiniLM-L6-v2')\n",
    "\n",
    "# Third set using KartonBERT\n",
    "def create_embeddings_and_analyze_kartonbert(df, model_name='OrlikB/KartonBERT-USE-base-v1'):\n",
    "    \"\"\"\n",
    "    Create embeddings using KartonBERT and analyze similarities with normalized embeddings\n",
    "    \"\"\"\n",
    "    # Initialize the model\n",
    "    model = SentenceTransformer(model_name)\n",
    "    \n",
    "    # Generate embeddings for original content\n",
    "    print(\"Generating embeddings for original content...\")\n",
    "    title_embeddings = model.encode(df['Title'].tolist(), normalize_embeddings=True, show_progress_bar=True)\n",
    "    body_embeddings = model.encode(df['Body'].tolist(), normalize_embeddings=True, show_progress_bar=True)\n",
    "    title_body_embeddings = model.encode(df['Title_Body'].tolist(), normalize_embeddings=True, show_progress_bar=True)\n",
    "    \n",
    "    # Generate embeddings for LLM responses\n",
    "    print(\"\\nGenerating embeddings for LLM responses...\")\n",
    "    response_embeddings = {\n",
    "        # Title responses\n",
    "        'zero_shot_title': model.encode(df['llm_zero_shot_title'].tolist(), normalize_embeddings=True, show_progress_bar=True),\n",
    "        'few_shot_title': model.encode(df['llm_few_shot_title'].tolist(), normalize_embeddings=True, show_progress_bar=True),\n",
    "        'cot_title': model.encode(df['llm_cot_title'].tolist(), normalize_embeddings=True, show_progress_bar=True),\n",
    "        \n",
    "        # Body responses\n",
    "        'zero_shot_body': model.encode(df['llm_zero_shot_body'].tolist(), normalize_embeddings=True, show_progress_bar=True),\n",
    "        'few_shot_body': model.encode(df['llm_few_shot_body'].tolist(), normalize_embeddings=True, show_progress_bar=True),\n",
    "        'cot_body': model.encode(df['llm_cot_body'].tolist(), normalize_embeddings=True, show_progress_bar=True),\n",
    "        \n",
    "        # Combined responses\n",
    "        'zero_shot_combined': model.encode(df['llm_zero_shot_combined'].tolist(), normalize_embeddings=True, show_progress_bar=True),\n",
    "        'few_shot_combined': model.encode(df['llm_few_shot_combined'].tolist(), normalize_embeddings=True, show_progress_bar=True),\n",
    "        'cot_combined': model.encode(df['llm_cot_combined'].tolist(), normalize_embeddings=True, show_progress_bar=True)\n",
    "    }\n",
    "    \n",
    "    # Calculate similarities using dot product\n",
    "    similarities = {\n",
    "        'title': {},\n",
    "        'body': {},\n",
    "        'combined': {}\n",
    "    }\n",
    "    \n",
    "    # Calculate similarities for each type\n",
    "    for response_type in ['zero_shot', 'few_shot', 'cot']:\n",
    "        similarities['title'][response_type] = np.sum(\n",
    "            title_embeddings * response_embeddings[f'{response_type}_title'], axis=1\n",
    "        )\n",
    "        similarities['body'][response_type] = np.sum(\n",
    "            body_embeddings * response_embeddings[f'{response_type}_body'], axis=1\n",
    "        )\n",
    "        similarities['combined'][response_type] = np.sum(\n",
    "            title_body_embeddings * response_embeddings[f'{response_type}_combined'], axis=1\n",
    "        )\n",
    "    \n",
    "    # Add similarity scores to dataframe\n",
    "    for response_type in ['zero_shot', 'few_shot', 'cot']:\n",
    "        df[f'similarity_{response_type}_title'] = similarities['title'][response_type]\n",
    "        df[f'similarity_{response_type}_body'] = similarities['body'][response_type]\n",
    "        df[f'similarity_{response_type}_combined'] = similarities['combined'][response_type]\n",
    "    \n",
    "    # Save embeddings (using GPT-4o path - change to Gemini for gemini version)\n",
    "    np.save('Data/GPT-4o/title_embeddings_kartonbert.npy', title_embeddings)\n",
    "    np.save('Data/GPT-4o/body_embeddings_kartonbert.npy', body_embeddings)\n",
    "    np.save('Data/GPT-4o/title_body_embeddings_kartonbert.npy', title_body_embeddings)\n",
    "    \n",
    "    for response_type, embeddings in response_embeddings.items():\n",
    "        np.save(f'Data/GPT-4o/{response_type}_embeddings_kartonbert.npy', embeddings)\n",
    "    \n",
    "    return df, similarities\n",
    "\n",
    "def analyze_similarities(similarities):\n",
    "    \"\"\"\n",
    "    Analyze and visualize similarity distributions for title, body, and combined responses\n",
    "    \"\"\"\n",
    "    categories = {\n",
    "        'Very High': (0.8, 1.0),\n",
    "        'High': (0.6, 0.8),\n",
    "        'Moderate': (0.4, 0.6),\n",
    "        'Low': (0.2, 0.4),\n",
    "        'Very Low': (0.0, 0.2)\n",
    "    }\n",
    "    \n",
    "    results = {\n",
    "        'title': {},\n",
    "        'body': {},\n",
    "        'combined': {}\n",
    "    }\n",
    "    \n",
    "    # Create figures for each type of response\n",
    "    for response_category in ['title', 'body', 'combined']:\n",
    "        fig, axes = plt.subplots(1, 3, figsize=(15, 5))\n",
    "        fig.suptitle(f'Similarity Analysis for {response_category.capitalize()} Responses')\n",
    "        \n",
    "        for idx, response_type in enumerate(['zero_shot', 'few_shot', 'cot']):\n",
    "            scores = similarities[response_category][response_type]\n",
    "            \n",
    "            stats = {\n",
    "                'mean': np.mean(scores),\n",
    "                'median': np.median(scores),\n",
    "                'std': np.std(scores),\n",
    "                'min': np.min(scores),\n",
    "                'max': np.max(scores)\n",
    "            }\n",
    "            \n",
    "            distribution = {}\n",
    "            for category, (low, high) in categories.items():\n",
    "                count = np.sum((scores >= low) & (scores < high))\n",
    "                percentage = (count / len(scores)) * 100\n",
    "                distribution[category] = percentage\n",
    "                \n",
    "            results[response_category][response_type] = {\n",
    "                'statistics': stats,\n",
    "                'distribution': distribution\n",
    "            }\n",
    "            \n",
    "            ax = axes[idx]\n",
    "            sns.histplot(scores, bins=30, ax=ax)\n",
    "            ax.set_title(f'{response_type.replace(\"_\", \" \").title()}')\n",
    "            ax.set_xlabel('Similarity Score')\n",
    "            ax.set_ylabel('Count')\n",
    "            \n",
    "            for category, (low, high) in categories.items():\n",
    "                if low > 0:\n",
    "                    ax.axvline(x=low, color='r', linestyle='--', alpha=0.3)\n",
    "        \n",
    "        plt.tight_layout()\n",
    "        # Save plot (using GPT-4o path - change to Gemini for gemini version)\n",
    "        plt.savefig(f'Data/GPT-4o/similarity_distributions_{response_category}_st.png')\n",
    "        plt.close()\n",
    "    \n",
    "    # Print analysis\n",
    "    for response_category in ['title', 'body', 'combined']:\n",
    "        print(f\"\\n{response_category.upper()} Response Analysis:\")\n",
    "        for response_type, result in results[response_category].items():\n",
    "            print(f\"\\n{response_type.upper()}:\")\n",
    "            print(\"\\nBasic Statistics:\")\n",
    "            for metric, value in result['statistics'].items():\n",
    "                print(f\"{metric}: {value:.4f}\")\n",
    "            \n",
    "            print(\"\\nDistribution across categories:\")\n",
    "            for category, percentage in result['distribution'].items():\n",
    "                print(f\"{category}: {percentage:.2f}%\")\n",
    "    \n",
    "    return results\n",
    "\n",
    "# Main execution\n",
    "if __name__ == \"__main__\":\n",
    "    # Read the combined CSV file (using GPT-4o path - change to Gemini for gemini version)\n",
    "    df = pd.read_csv('Data/GPT-4o/llm_responses_combined.csv')\n",
    "    \n",
    "    # Run analysis with all three models\n",
    "    \n",
    "    # all-mpnet-base-v1\n",
    "    df_with_similarities, similarities = create_embeddings_and_analyze(df)\n",
    "    analysis_results = analyze_similarities(similarities)\n",
    "    df_with_similarities.to_csv('Data/GPT-4o/llm_responses_with_similarities_st.csv', index=False)\n",
    "    \n",
    "    # all-MiniLM-L6-v2\n",
    "    df_with_similarities_minilm, similarities_minilm = create_embeddings_and_analyze_minilm(df)\n",
    "    analysis_results_minilm = analyze_similarities(similarities_minilm)\n",
    "    df_with_similarities_minilm.to_csv('Data/GPT-4o/llm_responses_with_similarities_st_minilm.csv', index=False)\n",
    "    \n",
    "    # KartonBERT\n",
    "    df_with_similarities_kartonbert, similarities_kartonbert = create_embeddings_and_analyze_kartonbert(df)\n",
    "    analysis_results_kartonbert = analyze_similarities(similarities_kartonbert)\n",
    "    df_with_similarities_kartonbert.to_csv('Data/GPT-4o/llm_responses_with_similarities_kartonbert.csv', index=False)"
   ]
  },
  {
   "cell_type": "code",
   "execution_count": 14,
   "metadata": {},
   "outputs": [
    {
     "data": {
      "image/png": "[encoded data removed]",
      "text/plain": [
       "<Figure size 1500x1000 with 1 Axes>"
      ]
     },
     "metadata": {},
     "output_type": "display_data"
    },
    {
     "name": "stdout",
     "output_type": "stream",
     "text": [
      "\n",
      "Statistical Summary for Combined Similarity (MiniLM):\n",
      "       In-Context    Few-Shot  Chain of Thought\n",
      "count  143.000000  143.000000        143.000000\n",
      "mean     0.586161    0.561621          0.576582\n",
      "std      0.191303    0.191509          0.189742\n",
      "min      0.002544   -0.019936          0.016815\n",
      "25%      0.480401    0.431588          0.461528\n",
      "50%      0.609710    0.578566          0.598624\n",
      "75%      0.711872    0.706775          0.713003\n",
      "max      0.958182    0.941840          0.934258\n"
     ]
    }
   ],
   "source": [
    "import pandas as pd\n",
    "import numpy as np\n",
    "import seaborn as sns\n",
    "import matplotlib.pyplot as plt\n",
    "\n",
    "def create_combined_violinplot(df, model_name=\"MiniLM\"):\n",
    "    # Create figure with larger size\n",
    "    plt.figure(figsize=(15, 10))\n",
    "    \n",
    "    # Prepare data for combined similarity\n",
    "    data = {\n",
    "        'In-Context': df['similarity_zero_shot_combined'],\n",
    "        'Few-Shot': df['similarity_few_shot_combined'],\n",
    "        'Chain of Thought': df['similarity_cot_combined']\n",
    "    }\n",
    "    \n",
    "    # Create DataFrame for seaborn\n",
    "    plot_data = pd.DataFrame(data)\n",
    "    \n",
    "    # Create violin plot with embedded boxplot\n",
    "    sns.violinplot(data=plot_data, \n",
    "                  palette='Set3',\n",
    "                  inner='box',  # Show boxplot inside violin\n",
    "                  linewidth=3.0,\n",
    "                  saturation=0.7)\n",
    "    \n",
    "    # Customize plot\n",
    "    plt.ylabel('Similarity Score', fontsize=36)\n",
    "    plt.grid(True, linestyle='--', alpha=0.7, linewidth=2)\n",
    "    plt.ylim(-0.2, 1.0)\n",
    "    \n",
    "    # Increase axis labels size\n",
    "    plt.xticks(fontsize=32)\n",
    "    plt.yticks(fontsize=32)\n",
    "    \n",
    "    # Add mean values as text on top\n",
    "    means = plot_data.mean()\n",
    "    for i, technique in enumerate(['In-Context', 'Few-Shot', 'Chain of Thought']):\n",
    "        mean_val = means[technique]\n",
    "        plt.text(i, 1.05, f'μ={mean_val:.3f}', \n",
    "                horizontalalignment='center', fontsize=32)\n",
    "    \n",
    "    # Adjust layout\n",
    "    plt.tight_layout(pad=2.0)\n",
    "    \n",
    "    # Save plot as PDF\n",
    "    plt.savefig(f'Data/GPT-4o/gpt_violinplot_combined_similarity_{model_name.lower()}.pdf', \n",
    "                format='pdf', bbox_inches='tight', dpi=600)\n",
    "    plt.show()\n",
    "    \n",
    "    # Print statistical summary\n",
    "    print(f\"\\nStatistical Summary for Combined Similarity ({model_name}):\")\n",
    "    df_stats = pd.DataFrame(data).describe()\n",
    "    print(df_stats)\n",
    "    \n",
    "    # Return the statistical summary for further analysis if needed\n",
    "    return df_stats\n",
    "\n",
    "# Usage example:\n",
    "df = pd.read_csv('Data/GPT-4o/llm_responses_with_similarities_st_minilm.csv')\n",
    "stats = create_combined_violinplot(df)"
   ]
  }
 ],
 "metadata": {
  "kernelspec": {
   "display_name": "Python 3",
   "language": "python",
   "name": "python3"
  },
  "language_info": {
   "codemirror_mode": {
    "name": "ipython",
    "version": 3
   },
   "file_extension": ".py",
   "mimetype": "text/x-python",
   "name": "python",
   "nbconvert_exporter": "python",
   "pygments_lexer": "ipython3",
   "version": "3.11.5"
  },
  "orig_nbformat": 4
 },
 "nbformat": 4,
 "nbformat_minor": 2
}
