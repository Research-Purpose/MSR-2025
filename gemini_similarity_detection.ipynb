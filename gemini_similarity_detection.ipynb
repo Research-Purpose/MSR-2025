{
 "cells": [
  {
   "cell_type": "code",
   "execution_count": 1,
   "metadata": {},
   "outputs": [
    {
     "name": "stdout",
     "output_type": "stream",
     "text": [
      "Generating embeddings for original content...\n"
     ]
    },
    {
     "data": {
      "application/vnd.jupyter.widget-view+json": {
       "model_id": "5a105a57effe4b538bd6cb4c42c8d929",
       "version_major": 2,
       "version_minor": 0
      },
      "text/plain": [
       "Batches:   0%|          | 0/5 [00:00<?, ?it/s]"
      ]
     },
     "metadata": {},
     "output_type": "display_data"
    },
    {
     "data": {
      "application/vnd.jupyter.widget-view+json": {
       "model_id": "04394f9b36b240c5a8f5813166b38925",
       "version_major": 2,
       "version_minor": 0
      },
      "text/plain": [
       "Batches:   0%|          | 0/5 [00:00<?, ?it/s]"
      ]
     },
     "metadata": {},
     "output_type": "display_data"
    },
    {
     "data": {
      "application/vnd.jupyter.widget-view+json": {
       "model_id": "67f7bb5c7f0c41f093754ac37c83feb0",
       "version_major": 2,
       "version_minor": 0
      },
      "text/plain": [
       "Batches:   0%|          | 0/5 [00:00<?, ?it/s]"
      ]
     },
     "metadata": {},
     "output_type": "display_data"
    },
    {
     "name": "stdout",
     "output_type": "stream",
     "text": [
      "\n",
      "Generating embeddings for LLM responses...\n"
     ]
    },
    {
     "data": {
      "application/vnd.jupyter.widget-view+json": {
       "model_id": "9030c7d0f5d143c0a8d802b3df2d5a9c",
       "version_major": 2,
       "version_minor": 0
      },
      "text/plain": [
       "Batches:   0%|          | 0/5 [00:00<?, ?it/s]"
      ]
     },
     "metadata": {},
     "output_type": "display_data"
    },
    {
     "data": {
      "application/vnd.jupyter.widget-view+json": {
       "model_id": "4fc9102a7a53439c9926307653e580af",
       "version_major": 2,
       "version_minor": 0
      },
      "text/plain": [
       "Batches:   0%|          | 0/5 [00:00<?, ?it/s]"
      ]
     },
     "metadata": {},
     "output_type": "display_data"
    },
    {
     "data": {
      "application/vnd.jupyter.widget-view+json": {
       "model_id": "03268573b85b4dc895228620607ff5aa",
       "version_major": 2,
       "version_minor": 0
      },
      "text/plain": [
       "Batches:   0%|          | 0/5 [00:00<?, ?it/s]"
      ]
     },
     "metadata": {},
     "output_type": "display_data"
    },
    {
     "data": {
      "application/vnd.jupyter.widget-view+json": {
       "model_id": "07c7d73de1f9493b81bc4e3b7a5bc650",
       "version_major": 2,
       "version_minor": 0
      },
      "text/plain": [
       "Batches:   0%|          | 0/5 [00:00<?, ?it/s]"
      ]
     },
     "metadata": {},
     "output_type": "display_data"
    },
    {
     "data": {
      "application/vnd.jupyter.widget-view+json": {
       "model_id": "16832184d5544a9185bb6f2f5a94e526",
       "version_major": 2,
       "version_minor": 0
      },
      "text/plain": [
       "Batches:   0%|          | 0/5 [00:00<?, ?it/s]"
      ]
     },
     "metadata": {},
     "output_type": "display_data"
    },
    {
     "data": {
      "application/vnd.jupyter.widget-view+json": {
       "model_id": "7a259b0f78114ae4aff34515ef0764c5",
       "version_major": 2,
       "version_minor": 0
      },
      "text/plain": [
       "Batches:   0%|          | 0/5 [00:00<?, ?it/s]"
      ]
     },
     "metadata": {},
     "output_type": "display_data"
    },
    {
     "data": {
      "application/vnd.jupyter.widget-view+json": {
       "model_id": "805c650ef4a14abd89b7e2abc3a7dec4",
       "version_major": 2,
       "version_minor": 0
      },
      "text/plain": [
       "Batches:   0%|          | 0/5 [00:00<?, ?it/s]"
      ]
     },
     "metadata": {},
     "output_type": "display_data"
    },
    {
     "data": {
      "application/vnd.jupyter.widget-view+json": {
       "model_id": "56f24b8c4faa4adeaf2a707770ff9a90",
       "version_major": 2,
       "version_minor": 0
      },
      "text/plain": [
       "Batches:   0%|          | 0/5 [00:00<?, ?it/s]"
      ]
     },
     "metadata": {},
     "output_type": "display_data"
    },
    {
     "data": {
      "application/vnd.jupyter.widget-view+json": {
       "model_id": "821c2e0ca3cf4ca6ad7d6a4e3271ee2f",
       "version_major": 2,
       "version_minor": 0
      },
      "text/plain": [
       "Batches:   0%|          | 0/5 [00:00<?, ?it/s]"
      ]
     },
     "metadata": {},
     "output_type": "display_data"
    },
    {
     "name": "stdout",
     "output_type": "stream",
     "text": [
      "\n",
      "TITLE Response Analysis:\n",
      "\n",
      "ZERO_SHOT:\n",
      "\n",
      "Basic Statistics:\n",
      "mean: 0.4581\n",
      "median: 0.4816\n",
      "std: 0.2075\n",
      "min: -0.0375\n",
      "max: 0.8861\n",
      "\n",
      "Distribution across categories:\n",
      "Very High: 3.50%\n",
      "High: 25.87%\n",
      "Moderate: 32.17%\n",
      "Low: 24.48%\n",
      "Very Low: 12.59%\n",
      "\n",
      "FEW_SHOT:\n",
      "\n",
      "Basic Statistics:\n",
      "mean: 0.3552\n",
      "median: 0.3461\n",
      "std: 0.2145\n",
      "min: -0.1036\n",
      "max: 0.9188\n",
      "\n",
      "Distribution across categories:\n",
      "Very High: 1.40%\n",
      "High: 14.69%\n",
      "Moderate: 27.27%\n",
      "Low: 27.97%\n",
      "Very Low: 26.57%\n",
      "\n",
      "COT:\n",
      "\n",
      "Basic Statistics:\n",
      "mean: 0.4512\n",
      "median: 0.4544\n",
      "std: 0.2340\n",
      "min: -0.0135\n",
      "max: 0.9497\n",
      "\n",
      "Distribution across categories:\n",
      "Very High: 6.99%\n",
      "High: 25.17%\n",
      "Moderate: 24.48%\n",
      "Low: 25.17%\n",
      "Very Low: 16.78%\n",
      "\n",
      "BODY Response Analysis:\n",
      "\n",
      "ZERO_SHOT:\n",
      "\n",
      "Basic Statistics:\n",
      "mean: 0.4923\n",
      "median: 0.5016\n",
      "std: 0.2138\n",
      "min: -0.0008\n",
      "max: 0.8823\n",
      "\n",
      "Distribution across categories:\n",
      "Very High: 5.59%\n",
      "High: 30.07%\n",
      "Moderate: 32.87%\n",
      "Low: 18.88%\n",
      "Very Low: 11.89%\n",
      "\n",
      "FEW_SHOT:\n",
      "\n",
      "Basic Statistics:\n",
      "mean: 0.4208\n",
      "median: 0.4270\n",
      "std: 0.2038\n",
      "min: -0.0833\n",
      "max: 0.8904\n",
      "\n",
      "Distribution across categories:\n",
      "Very High: 2.10%\n",
      "High: 20.98%\n",
      "Moderate: 31.47%\n",
      "Low: 30.07%\n",
      "Very Low: 13.99%\n",
      "\n",
      "COT:\n",
      "\n",
      "Basic Statistics:\n",
      "mean: 0.4977\n",
      "median: 0.5038\n",
      "std: 0.2121\n",
      "min: -0.0810\n",
      "max: 0.8905\n",
      "\n",
      "Distribution across categories:\n",
      "Very High: 6.29%\n",
      "High: 30.07%\n",
      "Moderate: 32.87%\n",
      "Low: 22.38%\n",
      "Very Low: 6.99%\n",
      "\n",
      "COMBINED Response Analysis:\n",
      "\n",
      "ZERO_SHOT:\n",
      "\n",
      "Basic Statistics:\n",
      "mean: 0.5449\n",
      "median: 0.5692\n",
      "std: 0.2080\n",
      "min: 0.0076\n",
      "max: 0.8905\n",
      "\n",
      "Distribution across categories:\n",
      "Very High: 9.09%\n",
      "High: 34.27%\n",
      "Moderate: 32.17%\n",
      "Low: 16.78%\n",
      "Very Low: 7.69%\n",
      "\n",
      "FEW_SHOT:\n",
      "\n",
      "Basic Statistics:\n",
      "mean: 0.4923\n",
      "median: 0.5205\n",
      "std: 0.2032\n",
      "min: 0.0325\n",
      "max: 0.8773\n",
      "\n",
      "Distribution across categories:\n",
      "Very High: 4.90%\n",
      "High: 30.77%\n",
      "Moderate: 30.77%\n",
      "Low: 25.17%\n",
      "Very Low: 8.39%\n",
      "\n",
      "COT:\n",
      "\n",
      "Basic Statistics:\n",
      "mean: 0.5703\n",
      "median: 0.6231\n",
      "std: 0.2044\n",
      "min: 0.0076\n",
      "max: 0.9056\n",
      "\n",
      "Distribution across categories:\n",
      "Very High: 13.29%\n",
      "High: 37.06%\n",
      "Moderate: 26.57%\n",
      "Low: 17.48%\n",
      "Very Low: 5.59%\n",
      "Generating embeddings for original content...\n"
     ]
    },
    {
     "data": {
      "application/vnd.jupyter.widget-view+json": {
       "model_id": "5abdca868c544fb5999554ee4f9f86ca",
       "version_major": 2,
       "version_minor": 0
      },
      "text/plain": [
       "Batches:   0%|          | 0/5 [00:00<?, ?it/s]"
      ]
     },
     "metadata": {},
     "output_type": "display_data"
    },
    {
     "data": {
      "application/vnd.jupyter.widget-view+json": {
       "model_id": "9fcd6c6a1ef54e188399f456c4e2fbb8",
       "version_major": 2,
       "version_minor": 0
      },
      "text/plain": [
       "Batches:   0%|          | 0/5 [00:00<?, ?it/s]"
      ]
     },
     "metadata": {},
     "output_type": "display_data"
    },
    {
     "data": {
      "application/vnd.jupyter.widget-view+json": {
       "model_id": "f18fd4548541482c85836af0826e8116",
       "version_major": 2,
       "version_minor": 0
      },
      "text/plain": [
       "Batches:   0%|          | 0/5 [00:00<?, ?it/s]"
      ]
     },
     "metadata": {},
     "output_type": "display_data"
    },
    {
     "name": "stdout",
     "output_type": "stream",
     "text": [
      "\n",
      "Generating embeddings for LLM responses...\n"
     ]
    },
    {
     "data": {
      "application/vnd.jupyter.widget-view+json": {
       "model_id": "d3530fc79a9846aa9b948304954bb60b",
       "version_major": 2,
       "version_minor": 0
      },
      "text/plain": [
       "Batches:   0%|          | 0/5 [00:00<?, ?it/s]"
      ]
     },
     "metadata": {},
     "output_type": "display_data"
    },
    {
     "data": {
      "application/vnd.jupyter.widget-view+json": {
       "model_id": "4136c4abe8b747a8b65a885bbfeab3eb",
       "version_major": 2,
       "version_minor": 0
      },
      "text/plain": [
       "Batches:   0%|          | 0/5 [00:00<?, ?it/s]"
      ]
     },
     "metadata": {},
     "output_type": "display_data"
    },
    {
     "data": {
      "application/vnd.jupyter.widget-view+json": {
       "model_id": "33e8f9d1e1df44e3bdd3b9a197b299b5",
       "version_major": 2,
       "version_minor": 0
      },
      "text/plain": [
       "Batches:   0%|          | 0/5 [00:00<?, ?it/s]"
      ]
     },
     "metadata": {},
     "output_type": "display_data"
    },
    {
     "data": {
      "application/vnd.jupyter.widget-view+json": {
       "model_id": "82d0511e8e484e1daa898b23b50d4210",
       "version_major": 2,
       "version_minor": 0
      },
      "text/plain": [
       "Batches:   0%|          | 0/5 [00:00<?, ?it/s]"
      ]
     },
     "metadata": {},
     "output_type": "display_data"
    },
    {
     "data": {
      "application/vnd.jupyter.widget-view+json": {
       "model_id": "55474ce506e946a18e4ed9758265c71c",
       "version_major": 2,
       "version_minor": 0
      },
      "text/plain": [
       "Batches:   0%|          | 0/5 [00:00<?, ?it/s]"
      ]
     },
     "metadata": {},
     "output_type": "display_data"
    },
    {
     "data": {
      "application/vnd.jupyter.widget-view+json": {
       "model_id": "c27089219bb84688bd59cd88d9493f40",
       "version_major": 2,
       "version_minor": 0
      },
      "text/plain": [
       "Batches:   0%|          | 0/5 [00:00<?, ?it/s]"
      ]
     },
     "metadata": {},
     "output_type": "display_data"
    },
    {
     "data": {
      "application/vnd.jupyter.widget-view+json": {
       "model_id": "16f54c976b824b5f84d25e48da7f6db3",
       "version_major": 2,
       "version_minor": 0
      },
      "text/plain": [
       "Batches:   0%|          | 0/5 [00:00<?, ?it/s]"
      ]
     },
     "metadata": {},
     "output_type": "display_data"
    },
    {
     "data": {
      "application/vnd.jupyter.widget-view+json": {
       "model_id": "74704488bab546b7b182399f69b810d2",
       "version_major": 2,
       "version_minor": 0
      },
      "text/plain": [
       "Batches:   0%|          | 0/5 [00:00<?, ?it/s]"
      ]
     },
     "metadata": {},
     "output_type": "display_data"
    },
    {
     "data": {
      "application/vnd.jupyter.widget-view+json": {
       "model_id": "8e4b91f0804143258e68dfe84b330578",
       "version_major": 2,
       "version_minor": 0
      },
      "text/plain": [
       "Batches:   0%|          | 0/5 [00:00<?, ?it/s]"
      ]
     },
     "metadata": {},
     "output_type": "display_data"
    },
    {
     "name": "stdout",
     "output_type": "stream",
     "text": [
      "\n",
      "TITLE Response Analysis:\n",
      "\n",
      "ZERO_SHOT:\n",
      "\n",
      "Basic Statistics:\n",
      "mean: 0.4720\n",
      "median: 0.4942\n",
      "std: 0.2152\n",
      "min: -0.0771\n",
      "max: 0.9190\n",
      "\n",
      "Distribution across categories:\n",
      "Very High: 2.80%\n",
      "High: 30.77%\n",
      "Moderate: 30.07%\n",
      "Low: 24.48%\n",
      "Very Low: 11.19%\n",
      "\n",
      "FEW_SHOT:\n",
      "\n",
      "Basic Statistics:\n",
      "mean: 0.3751\n",
      "median: 0.3910\n",
      "std: 0.2242\n",
      "min: -0.1247\n",
      "max: 0.9602\n",
      "\n",
      "Distribution across categories:\n",
      "Very High: 2.80%\n",
      "High: 14.69%\n",
      "Moderate: 27.97%\n",
      "Low: 29.37%\n",
      "Very Low: 21.68%\n",
      "\n",
      "COT:\n",
      "\n",
      "Basic Statistics:\n",
      "mean: 0.4654\n",
      "median: 0.4642\n",
      "std: 0.2299\n",
      "min: 0.0050\n",
      "max: 0.9656\n",
      "\n",
      "Distribution across categories:\n",
      "Very High: 8.39%\n",
      "High: 25.87%\n",
      "Moderate: 25.17%\n",
      "Low: 25.87%\n",
      "Very Low: 14.69%\n",
      "\n",
      "BODY Response Analysis:\n",
      "\n",
      "ZERO_SHOT:\n",
      "\n",
      "Basic Statistics:\n",
      "mean: 0.5186\n",
      "median: 0.5462\n",
      "std: 0.2058\n",
      "min: -0.0848\n",
      "max: 0.9123\n",
      "\n",
      "Distribution across categories:\n",
      "Very High: 8.39%\n",
      "High: 27.97%\n",
      "Moderate: 35.66%\n",
      "Low: 21.68%\n",
      "Very Low: 4.20%\n",
      "\n",
      "FEW_SHOT:\n",
      "\n",
      "Basic Statistics:\n",
      "mean: 0.4432\n",
      "median: 0.4576\n",
      "std: 0.1916\n",
      "min: 0.0127\n",
      "max: 0.8875\n",
      "\n",
      "Distribution across categories:\n",
      "Very High: 3.50%\n",
      "High: 16.78%\n",
      "Moderate: 39.86%\n",
      "Low: 27.27%\n",
      "Very Low: 12.59%\n",
      "\n",
      "COT:\n",
      "\n",
      "Basic Statistics:\n",
      "mean: 0.5240\n",
      "median: 0.5526\n",
      "std: 0.2014\n",
      "min: -0.0848\n",
      "max: 0.8909\n",
      "\n",
      "Distribution across categories:\n",
      "Very High: 7.69%\n",
      "High: 32.87%\n",
      "Moderate: 31.47%\n",
      "Low: 22.38%\n",
      "Very Low: 4.90%\n",
      "\n",
      "COMBINED Response Analysis:\n",
      "\n",
      "ZERO_SHOT:\n",
      "\n",
      "Basic Statistics:\n",
      "mean: 0.5757\n",
      "median: 0.5959\n",
      "std: 0.1996\n",
      "min: -0.0773\n",
      "max: 0.9134\n",
      "\n",
      "Distribution across categories:\n",
      "Very High: 11.19%\n",
      "High: 38.46%\n",
      "Moderate: 34.97%\n",
      "Low: 11.89%\n",
      "Very Low: 2.10%\n",
      "\n",
      "FEW_SHOT:\n",
      "\n",
      "Basic Statistics:\n",
      "mean: 0.5176\n",
      "median: 0.5438\n",
      "std: 0.1907\n",
      "min: 0.0821\n",
      "max: 0.9111\n",
      "\n",
      "Distribution across categories:\n",
      "Very High: 6.29%\n",
      "High: 30.07%\n",
      "Moderate: 38.46%\n",
      "Low: 20.98%\n",
      "Very Low: 4.20%\n",
      "\n",
      "COT:\n",
      "\n",
      "Basic Statistics:\n",
      "mean: 0.5962\n",
      "median: 0.6170\n",
      "std: 0.1957\n",
      "min: -0.0773\n",
      "max: 0.9129\n",
      "\n",
      "Distribution across categories:\n",
      "Very High: 13.99%\n",
      "High: 42.66%\n",
      "Moderate: 29.37%\n",
      "Low: 9.09%\n",
      "Very Low: 4.20%\n",
      "Generating embeddings for original content...\n"
     ]
    },
    {
     "data": {
      "application/vnd.jupyter.widget-view+json": {
       "model_id": "6f4851a2693b438ebd5e04ab879ac55c",
       "version_major": 2,
       "version_minor": 0
      },
      "text/plain": [
       "Batches:   0%|          | 0/5 [00:00<?, ?it/s]"
      ]
     },
     "metadata": {},
     "output_type": "display_data"
    },
    {
     "data": {
      "application/vnd.jupyter.widget-view+json": {
       "model_id": "d8be1e2ca8504ec580842126e502fa0d",
       "version_major": 2,
       "version_minor": 0
      },
      "text/plain": [
       "Batches:   0%|          | 0/5 [00:00<?, ?it/s]"
      ]
     },
     "metadata": {},
     "output_type": "display_data"
    },
    {
     "data": {
      "application/vnd.jupyter.widget-view+json": {
       "model_id": "73ef26b96efe4d3ab6e78412ed4e2653",
       "version_major": 2,
       "version_minor": 0
      },
      "text/plain": [
       "Batches:   0%|          | 0/5 [00:00<?, ?it/s]"
      ]
     },
     "metadata": {},
     "output_type": "display_data"
    },
    {
     "name": "stdout",
     "output_type": "stream",
     "text": [
      "\n",
      "Generating embeddings for LLM responses...\n"
     ]
    },
    {
     "data": {
      "application/vnd.jupyter.widget-view+json": {
       "model_id": "832d4900514d40a4a13d3d2ab3c8ea30",
       "version_major": 2,
       "version_minor": 0
      },
      "text/plain": [
       "Batches:   0%|          | 0/5 [00:00<?, ?it/s]"
      ]
     },
     "metadata": {},
     "output_type": "display_data"
    },
    {
     "data": {
      "application/vnd.jupyter.widget-view+json": {
       "model_id": "2d74aa94493945788b534856f20873fc",
       "version_major": 2,
       "version_minor": 0
      },
      "text/plain": [
       "Batches:   0%|          | 0/5 [00:00<?, ?it/s]"
      ]
     },
     "metadata": {},
     "output_type": "display_data"
    },
    {
     "data": {
      "application/vnd.jupyter.widget-view+json": {
       "model_id": "7c42ae02364741ac98d2ce127ebd2f35",
       "version_major": 2,
       "version_minor": 0
      },
      "text/plain": [
       "Batches:   0%|          | 0/5 [00:00<?, ?it/s]"
      ]
     },
     "metadata": {},
     "output_type": "display_data"
    },
    {
     "data": {
      "application/vnd.jupyter.widget-view+json": {
       "model_id": "c90c621a96854354a1ae62614d6b8875",
       "version_major": 2,
       "version_minor": 0
      },
      "text/plain": [
       "Batches:   0%|          | 0/5 [00:00<?, ?it/s]"
      ]
     },
     "metadata": {},
     "output_type": "display_data"
    },
    {
     "data": {
      "application/vnd.jupyter.widget-view+json": {
       "model_id": "14f9555099b24d018849c28cfe10ce84",
       "version_major": 2,
       "version_minor": 0
      },
      "text/plain": [
       "Batches:   0%|          | 0/5 [00:00<?, ?it/s]"
      ]
     },
     "metadata": {},
     "output_type": "display_data"
    },
    {
     "data": {
      "application/vnd.jupyter.widget-view+json": {
       "model_id": "bfb6a9a9ea764654a4d1517a4f984141",
       "version_major": 2,
       "version_minor": 0
      },
      "text/plain": [
       "Batches:   0%|          | 0/5 [00:00<?, ?it/s]"
      ]
     },
     "metadata": {},
     "output_type": "display_data"
    },
    {
     "data": {
      "application/vnd.jupyter.widget-view+json": {
       "model_id": "6de91c8debc544bc91f9d6710954c478",
       "version_major": 2,
       "version_minor": 0
      },
      "text/plain": [
       "Batches:   0%|          | 0/5 [00:00<?, ?it/s]"
      ]
     },
     "metadata": {},
     "output_type": "display_data"
    },
    {
     "data": {
      "application/vnd.jupyter.widget-view+json": {
       "model_id": "7dbefe588e35463e9572b4a649f0d48b",
       "version_major": 2,
       "version_minor": 0
      },
      "text/plain": [
       "Batches:   0%|          | 0/5 [00:00<?, ?it/s]"
      ]
     },
     "metadata": {},
     "output_type": "display_data"
    },
    {
     "data": {
      "application/vnd.jupyter.widget-view+json": {
       "model_id": "5dbb46b2d69648db9b6ee885777abe64",
       "version_major": 2,
       "version_minor": 0
      },
      "text/plain": [
       "Batches:   0%|          | 0/5 [00:00<?, ?it/s]"
      ]
     },
     "metadata": {},
     "output_type": "display_data"
    },
    {
     "name": "stdout",
     "output_type": "stream",
     "text": [
      "\n",
      "TITLE Response Analysis:\n",
      "\n",
      "ZERO_SHOT:\n",
      "\n",
      "Basic Statistics:\n",
      "mean: 0.6121\n",
      "median: 0.6075\n",
      "std: 0.1376\n",
      "min: 0.2549\n",
      "max: 0.9097\n",
      "\n",
      "Distribution across categories:\n",
      "Very High: 11.19%\n",
      "High: 41.26%\n",
      "Moderate: 42.66%\n",
      "Low: 4.90%\n",
      "Very Low: 0.00%\n",
      "\n",
      "FEW_SHOT:\n",
      "\n",
      "Basic Statistics:\n",
      "mean: 0.5506\n",
      "median: 0.5403\n",
      "std: 0.1565\n",
      "min: 0.1331\n",
      "max: 0.9077\n",
      "\n",
      "Distribution across categories:\n",
      "Very High: 8.39%\n",
      "High: 28.67%\n",
      "Moderate: 46.15%\n",
      "Low: 15.38%\n",
      "Very Low: 1.40%\n",
      "\n",
      "COT:\n",
      "\n",
      "Basic Statistics:\n",
      "mean: 0.6026\n",
      "median: 0.6009\n",
      "std: 0.1582\n",
      "min: 0.2320\n",
      "max: 0.9381\n",
      "\n",
      "Distribution across categories:\n",
      "Very High: 13.29%\n",
      "High: 37.06%\n",
      "Moderate: 38.46%\n",
      "Low: 11.19%\n",
      "Very Low: 0.00%\n",
      "\n",
      "BODY Response Analysis:\n",
      "\n",
      "ZERO_SHOT:\n",
      "\n",
      "Basic Statistics:\n",
      "mean: 0.6950\n",
      "median: 0.7261\n",
      "std: 0.1323\n",
      "min: 0.2278\n",
      "max: 0.9387\n",
      "\n",
      "Distribution across categories:\n",
      "Very High: 17.48%\n",
      "High: 61.54%\n",
      "Moderate: 17.48%\n",
      "Low: 3.50%\n",
      "Very Low: 0.00%\n",
      "\n",
      "FEW_SHOT:\n",
      "\n",
      "Basic Statistics:\n",
      "mean: 0.6448\n",
      "median: 0.6551\n",
      "std: 0.1139\n",
      "min: 0.3176\n",
      "max: 0.9371\n",
      "\n",
      "Distribution across categories:\n",
      "Very High: 9.79%\n",
      "High: 56.64%\n",
      "Moderate: 32.17%\n",
      "Low: 1.40%\n",
      "Very Low: 0.00%\n",
      "\n",
      "COT:\n",
      "\n",
      "Basic Statistics:\n",
      "mean: 0.7105\n",
      "median: 0.7315\n",
      "std: 0.1207\n",
      "min: 0.3468\n",
      "max: 0.9332\n",
      "\n",
      "Distribution across categories:\n",
      "Very High: 24.48%\n",
      "High: 57.34%\n",
      "Moderate: 16.08%\n",
      "Low: 2.10%\n",
      "Very Low: 0.00%\n",
      "\n",
      "COMBINED Response Analysis:\n",
      "\n",
      "ZERO_SHOT:\n",
      "\n",
      "Basic Statistics:\n",
      "mean: 0.7201\n",
      "median: 0.7397\n",
      "std: 0.1336\n",
      "min: 0.2073\n",
      "max: 0.9427\n",
      "\n",
      "Distribution across categories:\n",
      "Very High: 29.37%\n",
      "High: 56.64%\n",
      "Moderate: 10.49%\n",
      "Low: 3.50%\n",
      "Very Low: 0.00%\n",
      "\n",
      "FEW_SHOT:\n",
      "\n",
      "Basic Statistics:\n",
      "mean: 0.6689\n",
      "median: 0.6853\n",
      "std: 0.1182\n",
      "min: 0.3776\n",
      "max: 0.9492\n",
      "\n",
      "Distribution across categories:\n",
      "Very High: 13.29%\n",
      "High: 59.44%\n",
      "Moderate: 25.17%\n",
      "Low: 2.10%\n",
      "Very Low: 0.00%\n",
      "\n",
      "COT:\n",
      "\n",
      "Basic Statistics:\n",
      "mean: 0.7307\n",
      "median: 0.7424\n",
      "std: 0.1233\n",
      "min: 0.3737\n",
      "max: 0.9468\n",
      "\n",
      "Distribution across categories:\n",
      "Very High: 32.87%\n",
      "High: 53.15%\n",
      "Moderate: 11.89%\n",
      "Low: 2.10%\n",
      "Very Low: 0.00%\n"
     ]
    }
   ],
   "source": [
    "# For gpt_similarity_detection.py and gemini_similarity_detection.py\n",
    "# Just change the paths from 'Data/GPT-4o/' to 'Data/Gemini/' for the Gemini version\n",
    "\n",
    "import pandas as pd\n",
    "import numpy as np\n",
    "from sentence_transformers import SentenceTransformer\n",
    "from sklearn.metrics.pairwise import cosine_similarity\n",
    "import matplotlib.pyplot as plt\n",
    "import seaborn as sns\n",
    "\n",
    "# First set of functions using all-mpnet-base-v1\n",
    "def create_embeddings_and_analyze(df, model_name='sentence-transformers/all-mpnet-base-v1'):\n",
    "    \"\"\"\n",
    "    Create embeddings using SentenceTransformer and analyze similarities for both\n",
    "    separate title/body responses and combined responses\n",
    "    \"\"\"\n",
    "    # Initialize the model\n",
    "    model = SentenceTransformer(model_name)\n",
    "    \n",
    "    # Generate embeddings for original content\n",
    "    print(\"Generating embeddings for original content...\")\n",
    "    title_embeddings = model.encode(df['Title'].tolist(), show_progress_bar=True)\n",
    "    body_embeddings = model.encode(df['Body'].tolist(), show_progress_bar=True)\n",
    "    title_body_embeddings = model.encode(df['Title_Body'].tolist(), show_progress_bar=True)\n",
    "    \n",
    "    # Generate embeddings for LLM responses\n",
    "    print(\"\\nGenerating embeddings for LLM responses...\")\n",
    "    response_embeddings = {\n",
    "        # Title responses\n",
    "        'zero_shot_title': model.encode(df['llm_zero_shot_title'].tolist(), show_progress_bar=True),\n",
    "        'few_shot_title': model.encode(df['llm_few_shot_title'].tolist(), show_progress_bar=True),\n",
    "        'cot_title': model.encode(df['llm_cot_title'].tolist(), show_progress_bar=True),\n",
    "        \n",
    "        # Body responses\n",
    "        'zero_shot_body': model.encode(df['llm_zero_shot_body'].tolist(), show_progress_bar=True),\n",
    "        'few_shot_body': model.encode(df['llm_few_shot_body'].tolist(), show_progress_bar=True),\n",
    "        'cot_body': model.encode(df['llm_cot_body'].tolist(), show_progress_bar=True),\n",
    "        \n",
    "        # Combined responses\n",
    "        'zero_shot_combined': model.encode(df['llm_zero_shot_combined'].tolist(), show_progress_bar=True),\n",
    "        'few_shot_combined': model.encode(df['llm_few_shot_combined'].tolist(), show_progress_bar=True),\n",
    "        'cot_combined': model.encode(df['llm_cot_combined'].tolist(), show_progress_bar=True)\n",
    "    }\n",
    "    \n",
    "    # Calculate similarities\n",
    "    similarities = {\n",
    "        'title': {},\n",
    "        'body': {},\n",
    "        'combined': {}\n",
    "    }\n",
    "    \n",
    "    # Calculate similarities for each type\n",
    "    for response_type in ['zero_shot', 'few_shot', 'cot']:\n",
    "        similarities['title'][response_type] = np.diagonal(\n",
    "            cosine_similarity(title_embeddings, response_embeddings[f'{response_type}_title'])\n",
    "        )\n",
    "        similarities['body'][response_type] = np.diagonal(\n",
    "            cosine_similarity(body_embeddings, response_embeddings[f'{response_type}_body'])\n",
    "        )\n",
    "        similarities['combined'][response_type] = np.diagonal(\n",
    "            cosine_similarity(title_body_embeddings, response_embeddings[f'{response_type}_combined'])\n",
    "        )\n",
    "    \n",
    "    # Add similarity scores to dataframe\n",
    "    for response_type in ['zero_shot', 'few_shot', 'cot']:\n",
    "        df[f'similarity_{response_type}_title'] = similarities['title'][response_type]\n",
    "        df[f'similarity_{response_type}_body'] = similarities['body'][response_type]\n",
    "        df[f'similarity_{response_type}_combined'] = similarities['combined'][response_type]\n",
    "    \n",
    "    # Save embeddings (using GPT-4o path - change to Gemini for gemini version)\n",
    "    np.save('Data/Gemini/title_embeddings_st.npy', title_embeddings)\n",
    "    np.save('Data/Gemini/body_embeddings_st.npy', body_embeddings)\n",
    "    np.save('Data/Gemini/title_body_embeddings_st.npy', title_body_embeddings)\n",
    "    \n",
    "    for response_type, embeddings in response_embeddings.items():\n",
    "        np.save(f'Data/Gemini/{response_type}_embeddings_st.npy', embeddings)\n",
    "    \n",
    "    return df, similarities\n",
    "\n",
    "# Second set using MiniLM\n",
    "def create_embeddings_and_analyze_minilm(df):\n",
    "    return create_embeddings_and_analyze(df, model_name='sentence-transformers/all-MiniLM-L6-v2')\n",
    "\n",
    "# Third set using KartonBERT\n",
    "def create_embeddings_and_analyze_kartonbert(df, model_name='OrlikB/KartonBERT-USE-base-v1'):\n",
    "    \"\"\"\n",
    "    Create embeddings using KartonBERT and analyze similarities with normalized embeddings\n",
    "    \"\"\"\n",
    "    # Initialize the model\n",
    "    model = SentenceTransformer(model_name)\n",
    "    \n",
    "    # Generate embeddings for original content\n",
    "    print(\"Generating embeddings for original content...\")\n",
    "    title_embeddings = model.encode(df['Title'].tolist(), normalize_embeddings=True, show_progress_bar=True)\n",
    "    body_embeddings = model.encode(df['Body'].tolist(), normalize_embeddings=True, show_progress_bar=True)\n",
    "    title_body_embeddings = model.encode(df['Title_Body'].tolist(), normalize_embeddings=True, show_progress_bar=True)\n",
    "    \n",
    "    # Generate embeddings for LLM responses\n",
    "    print(\"\\nGenerating embeddings for LLM responses...\")\n",
    "    response_embeddings = {\n",
    "        # Title responses\n",
    "        'zero_shot_title': model.encode(df['llm_zero_shot_title'].tolist(), normalize_embeddings=True, show_progress_bar=True),\n",
    "        'few_shot_title': model.encode(df['llm_few_shot_title'].tolist(), normalize_embeddings=True, show_progress_bar=True),\n",
    "        'cot_title': model.encode(df['llm_cot_title'].tolist(), normalize_embeddings=True, show_progress_bar=True),\n",
    "        \n",
    "        # Body responses\n",
    "        'zero_shot_body': model.encode(df['llm_zero_shot_body'].tolist(), normalize_embeddings=True, show_progress_bar=True),\n",
    "        'few_shot_body': model.encode(df['llm_few_shot_body'].tolist(), normalize_embeddings=True, show_progress_bar=True),\n",
    "        'cot_body': model.encode(df['llm_cot_body'].tolist(), normalize_embeddings=True, show_progress_bar=True),\n",
    "        \n",
    "        # Combined responses\n",
    "        'zero_shot_combined': model.encode(df['llm_zero_shot_combined'].tolist(), normalize_embeddings=True, show_progress_bar=True),\n",
    "        'few_shot_combined': model.encode(df['llm_few_shot_combined'].tolist(), normalize_embeddings=True, show_progress_bar=True),\n",
    "        'cot_combined': model.encode(df['llm_cot_combined'].tolist(), normalize_embeddings=True, show_progress_bar=True)\n",
    "    }\n",
    "    \n",
    "    # Calculate similarities using dot product\n",
    "    similarities = {\n",
    "        'title': {},\n",
    "        'body': {},\n",
    "        'combined': {}\n",
    "    }\n",
    "    \n",
    "    # Calculate similarities for each type\n",
    "    for response_type in ['zero_shot', 'few_shot', 'cot']:\n",
    "        similarities['title'][response_type] = np.sum(\n",
    "            title_embeddings * response_embeddings[f'{response_type}_title'], axis=1\n",
    "        )\n",
    "        similarities['body'][response_type] = np.sum(\n",
    "            body_embeddings * response_embeddings[f'{response_type}_body'], axis=1\n",
    "        )\n",
    "        similarities['combined'][response_type] = np.sum(\n",
    "            title_body_embeddings * response_embeddings[f'{response_type}_combined'], axis=1\n",
    "        )\n",
    "    \n",
    "    # Add similarity scores to dataframe\n",
    "    for response_type in ['zero_shot', 'few_shot', 'cot']:\n",
    "        df[f'similarity_{response_type}_title'] = similarities['title'][response_type]\n",
    "        df[f'similarity_{response_type}_body'] = similarities['body'][response_type]\n",
    "        df[f'similarity_{response_type}_combined'] = similarities['combined'][response_type]\n",
    "    \n",
    "    # Save embeddings (using GPT-4o path - change to Gemini for gemini version)\n",
    "    np.save('Data/Gemini/title_embeddings_kartonbert.npy', title_embeddings)\n",
    "    np.save('Data/Gemini/body_embeddings_kartonbert.npy', body_embeddings)\n",
    "    np.save('Data/Gemini/title_body_embeddings_kartonbert.npy', title_body_embeddings)\n",
    "    \n",
    "    for response_type, embeddings in response_embeddings.items():\n",
    "        np.save(f'Data/Gemini/{response_type}_embeddings_kartonbert.npy', embeddings)\n",
    "    \n",
    "    return df, similarities\n",
    "\n",
    "def analyze_similarities(similarities):\n",
    "    \"\"\"\n",
    "    Analyze and visualize similarity distributions for title, body, and combined responses\n",
    "    \"\"\"\n",
    "    categories = {\n",
    "        'Very High': (0.8, 1.0),\n",
    "        'High': (0.6, 0.8),\n",
    "        'Moderate': (0.4, 0.6),\n",
    "        'Low': (0.2, 0.4),\n",
    "        'Very Low': (0.0, 0.2)\n",
    "    }\n",
    "    \n",
    "    results = {\n",
    "        'title': {},\n",
    "        'body': {},\n",
    "        'combined': {}\n",
    "    }\n",
    "    \n",
    "    # Create figures for each type of response\n",
    "    for response_category in ['title', 'body', 'combined']:\n",
    "        fig, axes = plt.subplots(1, 3, figsize=(15, 5))\n",
    "        fig.suptitle(f'Similarity Analysis for {response_category.capitalize()} Responses')\n",
    "        \n",
    "        for idx, response_type in enumerate(['zero_shot', 'few_shot', 'cot']):\n",
    "            scores = similarities[response_category][response_type]\n",
    "            \n",
    "            stats = {\n",
    "                'mean': np.mean(scores),\n",
    "                'median': np.median(scores),\n",
    "                'std': np.std(scores),\n",
    "                'min': np.min(scores),\n",
    "                'max': np.max(scores)\n",
    "            }\n",
    "            \n",
    "            distribution = {}\n",
    "            for category, (low, high) in categories.items():\n",
    "                count = np.sum((scores >= low) & (scores < high))\n",
    "                percentage = (count / len(scores)) * 100\n",
    "                distribution[category] = percentage\n",
    "                \n",
    "            results[response_category][response_type] = {\n",
    "                'statistics': stats,\n",
    "                'distribution': distribution\n",
    "            }\n",
    "            \n",
    "            ax = axes[idx]\n",
    "            sns.histplot(scores, bins=30, ax=ax)\n",
    "            ax.set_title(f'{response_type.replace(\"_\", \" \").title()}')\n",
    "            ax.set_xlabel('Similarity Score')\n",
    "            ax.set_ylabel('Count')\n",
    "            \n",
    "            for category, (low, high) in categories.items():\n",
    "                if low > 0:\n",
    "                    ax.axvline(x=low, color='r', linestyle='--', alpha=0.3)\n",
    "        \n",
    "        plt.tight_layout()\n",
    "        # Save plot (using GPT-4o path - change to Gemini for gemini version)\n",
    "        plt.savefig(f'Data/Gemini/similarity_distributions_{response_category}_st.png')\n",
    "        plt.close()\n",
    "    \n",
    "    # Print analysis\n",
    "    for response_category in ['title', 'body', 'combined']:\n",
    "        print(f\"\\n{response_category.upper()} Response Analysis:\")\n",
    "        for response_type, result in results[response_category].items():\n",
    "            print(f\"\\n{response_type.upper()}:\")\n",
    "            print(\"\\nBasic Statistics:\")\n",
    "            for metric, value in result['statistics'].items():\n",
    "                print(f\"{metric}: {value:.4f}\")\n",
    "            \n",
    "            print(\"\\nDistribution across categories:\")\n",
    "            for category, percentage in result['distribution'].items():\n",
    "                print(f\"{category}: {percentage:.2f}%\")\n",
    "    \n",
    "    return results\n",
    "\n",
    "# Main execution\n",
    "if __name__ == \"__main__\":\n",
    "    # Read the combined CSV file (using GPT-4o path - change to Gemini for gemini version)\n",
    "    df = pd.read_csv('Data/Gemini/llm_responses_combined.csv')\n",
    "    \n",
    "    # Run analysis with all three models\n",
    "    \n",
    "    # all-mpnet-base-v1\n",
    "    df_with_similarities, similarities = create_embeddings_and_analyze(df)\n",
    "    analysis_results = analyze_similarities(similarities)\n",
    "    df_with_similarities.to_csv('Data/Gemini/llm_responses_with_similarities_st.csv', index=False)\n",
    "    \n",
    "    # all-MiniLM-L6-v2\n",
    "    df_with_similarities_minilm, similarities_minilm = create_embeddings_and_analyze_minilm(df)\n",
    "    analysis_results_minilm = analyze_similarities(similarities_minilm)\n",
    "    df_with_similarities_minilm.to_csv('Data/Gemini/llm_responses_with_similarities_st_minilm.csv', index=False)\n",
    "    \n",
    "    # KartonBERT\n",
    "    df_with_similarities_kartonbert, similarities_kartonbert = create_embeddings_and_analyze_kartonbert(df)\n",
    "    analysis_results_kartonbert = analyze_similarities(similarities_kartonbert)\n",
    "    df_with_similarities_kartonbert.to_csv('Data/Gemini/llm_responses_with_similarities_kartonbert.csv', index=False)"
   ]
  },
  {
   "cell_type": "code",
   "execution_count": 9,
   "metadata": {},
   "outputs": [
    {
     "data": {
      "image/png": "[encoded data removed]",
      "text/plain": [
       "<Figure size 1500x1000 with 1 Axes>"
      ]
     },
     "metadata": {},
     "output_type": "display_data"
    },
    {
     "name": "stdout",
     "output_type": "stream",
     "text": [
      "\n",
      "Statistical Summary for Combined Similarity (MiniLM):\n",
      "       In-Context    Few-Shot  Chain of Thought\n",
      "count  143.000000  143.000000        143.000000\n",
      "mean     0.575669    0.517616          0.596173\n",
      "std      0.200298    0.191376          0.196374\n",
      "min     -0.077324    0.082124         -0.077324\n",
      "25%      0.457433    0.397766          0.473217\n",
      "50%      0.595873    0.543829          0.616950\n",
      "75%      0.712365    0.651043          0.735348\n",
      "max      0.913411    0.911136          0.912872\n"
     ]
    }
   ],
   "source": [
    "import pandas as pd\n",
    "import numpy as np\n",
    "import seaborn as sns\n",
    "import matplotlib.pyplot as plt\n",
    "\n",
    "def create_combined_violinplot(df, model_name=\"MiniLM\"):\n",
    "    # Create figure with larger size\n",
    "    plt.figure(figsize=(15, 10))  # Increased figure size\n",
    "    \n",
    "    # Prepare data for combined similarity\n",
    "    data = {\n",
    "        'In-Context': df['similarity_zero_shot_combined'],\n",
    "        'Few-Shot': df['similarity_few_shot_combined'],\n",
    "        'Chain of Thought': df['similarity_cot_combined']\n",
    "    }\n",
    "    \n",
    "    # Create DataFrame for seaborn\n",
    "    plot_data = pd.DataFrame(data)\n",
    "    \n",
    "    # Create violin plot with embedded boxplot\n",
    "    sns.violinplot(data=plot_data, \n",
    "                  palette='Set3',\n",
    "                  inner='box',  # Show boxplot inside violin\n",
    "                  linewidth=3.0,\n",
    "                  saturation=0.7)\n",
    "    \n",
    "    # Customize plot with much larger text\n",
    "    plt.ylabel('Similarity Score', fontsize=36)  # Increased y-label size\n",
    "    plt.grid(True, linestyle='--', alpha=0.7, linewidth=2)\n",
    "    plt.ylim(-0.2, 1.0)\n",
    "    \n",
    "    # Increase x-axis labels size\n",
    "    plt.xticks(fontsize=32)  # Much larger x-axis text\n",
    "    \n",
    "    # Increase y-axis labels size\n",
    "    plt.yticks(fontsize=32)  # Much larger y-axis text\n",
    "    \n",
    "    # Add mean values as text on top with larger font\n",
    "    means = plot_data.mean()\n",
    "    for i, technique in enumerate(['In-Context', 'Few-Shot', 'Chain of Thought']):\n",
    "        mean_val = means[technique]\n",
    "        plt.text(i, 1.05, f'μ={mean_val:.3f}', \n",
    "                horizontalalignment='center', fontsize=32)  # Much larger mean values\n",
    "    \n",
    "    # Adjust layout with more padding\n",
    "    plt.tight_layout(pad=2.0)\n",
    "    \n",
    "    # Save plot as PDF with higher DPI - note the Gemini path\n",
    "    plt.savefig(f'Data/Gemini/gemini_violinplot_combined_similarity_{model_name.lower()}.pdf', \n",
    "                format='pdf', bbox_inches='tight', dpi=600)\n",
    "    plt.show()\n",
    "    \n",
    "    # Print statistical summary\n",
    "    print(f\"\\nStatistical Summary for Combined Similarity ({model_name}):\")\n",
    "    df_stats = pd.DataFrame(data).describe()\n",
    "    print(df_stats)\n",
    "    \n",
    "    # Return the statistical summary for further analysis if needed\n",
    "    return df_stats\n",
    "\n",
    "# Load and process Gemini data\n",
    "df = pd.read_csv('Data/Gemini/llm_responses_with_similarities_st_minilm.csv')\n",
    "stats = create_combined_violinplot(df)"
   ]
  }
 ],
 "metadata": {
  "kernelspec": {
   "display_name": "Python 3",
   "language": "python",
   "name": "python3"
  },
  "language_info": {
   "codemirror_mode": {
    "name": "ipython",
    "version": 3
   },
   "file_extension": ".py",
   "mimetype": "text/x-python",
   "name": "python",
   "nbconvert_exporter": "python",
   "pygments_lexer": "ipython3",
   "version": "3.11.5"
  },
  "orig_nbformat": 4
 },
 "nbformat": 4,
 "nbformat_minor": 2
}
