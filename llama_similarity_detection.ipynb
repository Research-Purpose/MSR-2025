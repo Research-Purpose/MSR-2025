{
 "cells": [
  {
   "cell_type": "code",
   "execution_count": 1,
   "metadata": {},
   "outputs": [
    {
     "name": "stdout",
     "output_type": "stream",
     "text": [
      "Generating embeddings for original content...\n"
     ]
    },
    {
     "data": {
      "application/vnd.jupyter.widget-view+json": {
       "model_id": "698b512dc4a74cc786f0dc009b992db2",
       "version_major": 2,
       "version_minor": 0
      },
      "text/plain": [
       "Batches:   0%|          | 0/5 [00:00<?, ?it/s]"
      ]
     },
     "metadata": {},
     "output_type": "display_data"
    },
    {
     "data": {
      "application/vnd.jupyter.widget-view+json": {
       "model_id": "80e7b3c06efa48dcac1a61d2395143b6",
       "version_major": 2,
       "version_minor": 0
      },
      "text/plain": [
       "Batches:   0%|          | 0/5 [00:00<?, ?it/s]"
      ]
     },
     "metadata": {},
     "output_type": "display_data"
    },
    {
     "data": {
      "application/vnd.jupyter.widget-view+json": {
       "model_id": "4e9b42d9c7e9495099eec42f529b3426",
       "version_major": 2,
       "version_minor": 0
      },
      "text/plain": [
       "Batches:   0%|          | 0/5 [00:00<?, ?it/s]"
      ]
     },
     "metadata": {},
     "output_type": "display_data"
    },
    {
     "name": "stdout",
     "output_type": "stream",
     "text": [
      "\n",
      "Generating embeddings for LLM responses...\n"
     ]
    },
    {
     "data": {
      "application/vnd.jupyter.widget-view+json": {
       "model_id": "1684ad2cf91d466d9658d791258b9419",
       "version_major": 2,
       "version_minor": 0
      },
      "text/plain": [
       "Batches:   0%|          | 0/5 [00:00<?, ?it/s]"
      ]
     },
     "metadata": {},
     "output_type": "display_data"
    },
    {
     "data": {
      "application/vnd.jupyter.widget-view+json": {
       "model_id": "a88a0f2b71ff4884b317a775e3626356",
       "version_major": 2,
       "version_minor": 0
      },
      "text/plain": [
       "Batches:   0%|          | 0/5 [00:00<?, ?it/s]"
      ]
     },
     "metadata": {},
     "output_type": "display_data"
    },
    {
     "data": {
      "application/vnd.jupyter.widget-view+json": {
       "model_id": "0480bb27272b48babaaf5aec09fc20f9",
       "version_major": 2,
       "version_minor": 0
      },
      "text/plain": [
       "Batches:   0%|          | 0/5 [00:00<?, ?it/s]"
      ]
     },
     "metadata": {},
     "output_type": "display_data"
    },
    {
     "data": {
      "application/vnd.jupyter.widget-view+json": {
       "model_id": "66f0239eb5284edd986b4d456d252e9b",
       "version_major": 2,
       "version_minor": 0
      },
      "text/plain": [
       "Batches:   0%|          | 0/5 [00:00<?, ?it/s]"
      ]
     },
     "metadata": {},
     "output_type": "display_data"
    },
    {
     "data": {
      "application/vnd.jupyter.widget-view+json": {
       "model_id": "65abe9265e2f4b4c8fdf440bae60c841",
       "version_major": 2,
       "version_minor": 0
      },
      "text/plain": [
       "Batches:   0%|          | 0/5 [00:00<?, ?it/s]"
      ]
     },
     "metadata": {},
     "output_type": "display_data"
    },
    {
     "data": {
      "application/vnd.jupyter.widget-view+json": {
       "model_id": "32b24628db5745c78ad01e731f1bb1eb",
       "version_major": 2,
       "version_minor": 0
      },
      "text/plain": [
       "Batches:   0%|          | 0/5 [00:00<?, ?it/s]"
      ]
     },
     "metadata": {},
     "output_type": "display_data"
    },
    {
     "data": {
      "application/vnd.jupyter.widget-view+json": {
       "model_id": "a91bbe3d5391430eadc56c6415b60836",
       "version_major": 2,
       "version_minor": 0
      },
      "text/plain": [
       "Batches:   0%|          | 0/5 [00:00<?, ?it/s]"
      ]
     },
     "metadata": {},
     "output_type": "display_data"
    },
    {
     "data": {
      "application/vnd.jupyter.widget-view+json": {
       "model_id": "b2a2e0afc5314fa79801612e833682e7",
       "version_major": 2,
       "version_minor": 0
      },
      "text/plain": [
       "Batches:   0%|          | 0/5 [00:00<?, ?it/s]"
      ]
     },
     "metadata": {},
     "output_type": "display_data"
    },
    {
     "data": {
      "application/vnd.jupyter.widget-view+json": {
       "model_id": "ba472062b67549b39255deb2fce074c2",
       "version_major": 2,
       "version_minor": 0
      },
      "text/plain": [
       "Batches:   0%|          | 0/5 [00:00<?, ?it/s]"
      ]
     },
     "metadata": {},
     "output_type": "display_data"
    },
    {
     "name": "stdout",
     "output_type": "stream",
     "text": [
      "\n",
      "TITLE Response Analysis:\n",
      "\n",
      "ZERO_SHOT:\n",
      "\n",
      "Basic Statistics:\n",
      "mean: 0.2018\n",
      "median: 0.1416\n",
      "std: 0.2105\n",
      "min: -0.1047\n",
      "max: 0.9072\n",
      "\n",
      "Distribution across categories:\n",
      "Very High: 1.40%\n",
      "High: 3.50%\n",
      "Moderate: 11.89%\n",
      "Low: 23.78%\n",
      "Very Low: 46.15%\n",
      "\n",
      "FEW_SHOT:\n",
      "\n",
      "Basic Statistics:\n",
      "mean: 0.0433\n",
      "median: 0.0312\n",
      "std: 0.1076\n",
      "min: -0.1458\n",
      "max: 0.5320\n",
      "\n",
      "Distribution across categories:\n",
      "Very High: 0.00%\n",
      "High: 0.00%\n",
      "Moderate: 2.80%\n",
      "Low: 2.80%\n",
      "Very Low: 61.54%\n",
      "\n",
      "COT:\n",
      "\n",
      "Basic Statistics:\n",
      "mean: 0.2100\n",
      "median: 0.1468\n",
      "std: 0.2110\n",
      "min: -0.0901\n",
      "max: 0.9859\n",
      "\n",
      "Distribution across categories:\n",
      "Very High: 1.40%\n",
      "High: 5.59%\n",
      "Moderate: 12.59%\n",
      "Low: 20.98%\n",
      "Very Low: 48.95%\n",
      "\n",
      "BODY Response Analysis:\n",
      "\n",
      "ZERO_SHOT:\n",
      "\n",
      "Basic Statistics:\n",
      "mean: 0.2535\n",
      "median: 0.2073\n",
      "std: 0.2123\n",
      "min: -0.1515\n",
      "max: 0.8100\n",
      "\n",
      "Distribution across categories:\n",
      "Very High: 0.70%\n",
      "High: 6.99%\n",
      "Moderate: 17.48%\n",
      "Low: 27.27%\n",
      "Very Low: 39.86%\n",
      "\n",
      "FEW_SHOT:\n",
      "\n",
      "Basic Statistics:\n",
      "mean: 0.0500\n",
      "median: 0.0331\n",
      "std: 0.0978\n",
      "min: -0.1428\n",
      "max: 0.4029\n",
      "\n",
      "Distribution across categories:\n",
      "Very High: 0.00%\n",
      "High: 0.00%\n",
      "Moderate: 0.70%\n",
      "Low: 6.99%\n",
      "Very Low: 60.84%\n",
      "\n",
      "COT:\n",
      "\n",
      "Basic Statistics:\n",
      "mean: 0.2676\n",
      "median: 0.2342\n",
      "std: 0.2166\n",
      "min: -0.1339\n",
      "max: 0.7913\n",
      "\n",
      "Distribution across categories:\n",
      "Very High: 0.00%\n",
      "High: 9.09%\n",
      "Moderate: 19.58%\n",
      "Low: 26.57%\n",
      "Very Low: 35.66%\n",
      "\n",
      "COMBINED Response Analysis:\n",
      "\n",
      "ZERO_SHOT:\n",
      "\n",
      "Basic Statistics:\n",
      "mean: 0.2768\n",
      "median: 0.2515\n",
      "std: 0.2140\n",
      "min: -0.0473\n",
      "max: 0.7681\n",
      "\n",
      "Distribution across categories:\n",
      "Very High: 0.00%\n",
      "High: 11.89%\n",
      "Moderate: 16.78%\n",
      "Low: 30.07%\n",
      "Very Low: 33.57%\n",
      "\n",
      "FEW_SHOT:\n",
      "\n",
      "Basic Statistics:\n",
      "mean: 0.0506\n",
      "median: 0.0382\n",
      "std: 0.0967\n",
      "min: -0.1472\n",
      "max: 0.3069\n",
      "\n",
      "Distribution across categories:\n",
      "Very High: 0.00%\n",
      "High: 0.00%\n",
      "Moderate: 0.00%\n",
      "Low: 7.69%\n",
      "Very Low: 62.24%\n",
      "\n",
      "COT:\n",
      "\n",
      "Basic Statistics:\n",
      "mean: 0.3099\n",
      "median: 0.2994\n",
      "std: 0.2152\n",
      "min: -0.1026\n",
      "max: 0.8176\n",
      "\n",
      "Distribution across categories:\n",
      "Very High: 0.70%\n",
      "High: 13.99%\n",
      "Moderate: 17.48%\n",
      "Low: 33.57%\n",
      "Very Low: 27.97%\n",
      "Generating embeddings for original content...\n"
     ]
    },
    {
     "data": {
      "application/vnd.jupyter.widget-view+json": {
       "model_id": "883c9f7632964bbd81a18eadb0e23721",
       "version_major": 2,
       "version_minor": 0
      },
      "text/plain": [
       "Batches:   0%|          | 0/5 [00:00<?, ?it/s]"
      ]
     },
     "metadata": {},
     "output_type": "display_data"
    },
    {
     "data": {
      "application/vnd.jupyter.widget-view+json": {
       "model_id": "6cdb31046d3a4872b07b58bd0f222469",
       "version_major": 2,
       "version_minor": 0
      },
      "text/plain": [
       "Batches:   0%|          | 0/5 [00:00<?, ?it/s]"
      ]
     },
     "metadata": {},
     "output_type": "display_data"
    },
    {
     "data": {
      "application/vnd.jupyter.widget-view+json": {
       "model_id": "2088e0b236e449c6b0e85774d3e53f3b",
       "version_major": 2,
       "version_minor": 0
      },
      "text/plain": [
       "Batches:   0%|          | 0/5 [00:00<?, ?it/s]"
      ]
     },
     "metadata": {},
     "output_type": "display_data"
    },
    {
     "name": "stdout",
     "output_type": "stream",
     "text": [
      "\n",
      "Generating embeddings for LLM responses...\n"
     ]
    },
    {
     "data": {
      "application/vnd.jupyter.widget-view+json": {
       "model_id": "c0b873d656cb4181a540511dfd2cec97",
       "version_major": 2,
       "version_minor": 0
      },
      "text/plain": [
       "Batches:   0%|          | 0/5 [00:00<?, ?it/s]"
      ]
     },
     "metadata": {},
     "output_type": "display_data"
    },
    {
     "data": {
      "application/vnd.jupyter.widget-view+json": {
       "model_id": "b670b12b2e5a4bfdb20316a4c62b43c3",
       "version_major": 2,
       "version_minor": 0
      },
      "text/plain": [
       "Batches:   0%|          | 0/5 [00:00<?, ?it/s]"
      ]
     },
     "metadata": {},
     "output_type": "display_data"
    },
    {
     "data": {
      "application/vnd.jupyter.widget-view+json": {
       "model_id": "68d8ce3997584ecb828292e3aa38ee52",
       "version_major": 2,
       "version_minor": 0
      },
      "text/plain": [
       "Batches:   0%|          | 0/5 [00:00<?, ?it/s]"
      ]
     },
     "metadata": {},
     "output_type": "display_data"
    },
    {
     "data": {
      "application/vnd.jupyter.widget-view+json": {
       "model_id": "284673394a9d4141bd19feb0eb1dd4ea",
       "version_major": 2,
       "version_minor": 0
      },
      "text/plain": [
       "Batches:   0%|          | 0/5 [00:00<?, ?it/s]"
      ]
     },
     "metadata": {},
     "output_type": "display_data"
    },
    {
     "data": {
      "application/vnd.jupyter.widget-view+json": {
       "model_id": "27229ca987c34733a0303b5233eee8cd",
       "version_major": 2,
       "version_minor": 0
      },
      "text/plain": [
       "Batches:   0%|          | 0/5 [00:00<?, ?it/s]"
      ]
     },
     "metadata": {},
     "output_type": "display_data"
    },
    {
     "data": {
      "application/vnd.jupyter.widget-view+json": {
       "model_id": "67842f3d8df74d62a0533855241a3c69",
       "version_major": 2,
       "version_minor": 0
      },
      "text/plain": [
       "Batches:   0%|          | 0/5 [00:00<?, ?it/s]"
      ]
     },
     "metadata": {},
     "output_type": "display_data"
    },
    {
     "data": {
      "application/vnd.jupyter.widget-view+json": {
       "model_id": "3c75c3a66e674397b1ee5f02652245b5",
       "version_major": 2,
       "version_minor": 0
      },
      "text/plain": [
       "Batches:   0%|          | 0/5 [00:00<?, ?it/s]"
      ]
     },
     "metadata": {},
     "output_type": "display_data"
    },
    {
     "data": {
      "application/vnd.jupyter.widget-view+json": {
       "model_id": "4f6ecdd88c904293ad71dd47e921f231",
       "version_major": 2,
       "version_minor": 0
      },
      "text/plain": [
       "Batches:   0%|          | 0/5 [00:00<?, ?it/s]"
      ]
     },
     "metadata": {},
     "output_type": "display_data"
    },
    {
     "data": {
      "application/vnd.jupyter.widget-view+json": {
       "model_id": "e99a6214c35c4f798d5e6cdd1cb6d1b1",
       "version_major": 2,
       "version_minor": 0
      },
      "text/plain": [
       "Batches:   0%|          | 0/5 [00:00<?, ?it/s]"
      ]
     },
     "metadata": {},
     "output_type": "display_data"
    },
    {
     "name": "stdout",
     "output_type": "stream",
     "text": [
      "\n",
      "TITLE Response Analysis:\n",
      "\n",
      "ZERO_SHOT:\n",
      "\n",
      "Basic Statistics:\n",
      "mean: 0.2106\n",
      "median: 0.1645\n",
      "std: 0.2167\n",
      "min: -0.1702\n",
      "max: 0.9559\n",
      "\n",
      "Distribution across categories:\n",
      "Very High: 1.40%\n",
      "High: 4.90%\n",
      "Moderate: 9.79%\n",
      "Low: 23.08%\n",
      "Very Low: 46.85%\n",
      "\n",
      "FEW_SHOT:\n",
      "\n",
      "Basic Statistics:\n",
      "mean: 0.0436\n",
      "median: 0.0371\n",
      "std: 0.1158\n",
      "min: -0.1474\n",
      "max: 0.6026\n",
      "\n",
      "Distribution across categories:\n",
      "Very High: 0.00%\n",
      "High: 0.70%\n",
      "Moderate: 1.40%\n",
      "Low: 4.90%\n",
      "Very Low: 53.85%\n",
      "\n",
      "COT:\n",
      "\n",
      "Basic Statistics:\n",
      "mean: 0.2195\n",
      "median: 0.1624\n",
      "std: 0.2191\n",
      "min: -0.1978\n",
      "max: 0.9854\n",
      "\n",
      "Distribution across categories:\n",
      "Very High: 1.40%\n",
      "High: 5.59%\n",
      "Moderate: 13.29%\n",
      "Low: 22.38%\n",
      "Very Low: 46.15%\n",
      "\n",
      "BODY Response Analysis:\n",
      "\n",
      "ZERO_SHOT:\n",
      "\n",
      "Basic Statistics:\n",
      "mean: 0.2753\n",
      "median: 0.2574\n",
      "std: 0.2205\n",
      "min: -0.0921\n",
      "max: 0.8441\n",
      "\n",
      "Distribution across categories:\n",
      "Very High: 0.70%\n",
      "High: 8.39%\n",
      "Moderate: 22.38%\n",
      "Low: 25.17%\n",
      "Very Low: 34.97%\n",
      "\n",
      "FEW_SHOT:\n",
      "\n",
      "Basic Statistics:\n",
      "mean: 0.0554\n",
      "median: 0.0444\n",
      "std: 0.1113\n",
      "min: -0.1731\n",
      "max: 0.4849\n",
      "\n",
      "Distribution across categories:\n",
      "Very High: 0.00%\n",
      "High: 0.00%\n",
      "Moderate: 0.70%\n",
      "Low: 7.69%\n",
      "Very Low: 60.14%\n",
      "\n",
      "COT:\n",
      "\n",
      "Basic Statistics:\n",
      "mean: 0.3013\n",
      "median: 0.2838\n",
      "std: 0.2151\n",
      "min: -0.1250\n",
      "max: 0.9006\n",
      "\n",
      "Distribution across categories:\n",
      "Very High: 1.40%\n",
      "High: 8.39%\n",
      "Moderate: 24.48%\n",
      "Low: 26.57%\n",
      "Very Low: 33.57%\n",
      "\n",
      "COMBINED Response Analysis:\n",
      "\n",
      "ZERO_SHOT:\n",
      "\n",
      "Basic Statistics:\n",
      "mean: 0.3133\n",
      "median: 0.2946\n",
      "std: 0.2244\n",
      "min: -0.1285\n",
      "max: 0.8757\n",
      "\n",
      "Distribution across categories:\n",
      "Very High: 1.40%\n",
      "High: 10.49%\n",
      "Moderate: 23.78%\n",
      "Low: 29.37%\n",
      "Very Low: 27.27%\n",
      "\n",
      "FEW_SHOT:\n",
      "\n",
      "Basic Statistics:\n",
      "mean: 0.0724\n",
      "median: 0.0664\n",
      "std: 0.1047\n",
      "min: -0.1313\n",
      "max: 0.4053\n",
      "\n",
      "Distribution across categories:\n",
      "Very High: 0.00%\n",
      "High: 0.00%\n",
      "Moderate: 0.70%\n",
      "Low: 12.59%\n",
      "Very Low: 60.84%\n",
      "\n",
      "COT:\n",
      "\n",
      "Basic Statistics:\n",
      "mean: 0.3565\n",
      "median: 0.3639\n",
      "std: 0.2069\n",
      "min: -0.1056\n",
      "max: 0.8610\n",
      "\n",
      "Distribution across categories:\n",
      "Very High: 1.40%\n",
      "High: 11.89%\n",
      "Moderate: 28.67%\n",
      "Low: 31.47%\n",
      "Very Low: 24.48%\n",
      "Generating embeddings for original content...\n"
     ]
    },
    {
     "data": {
      "application/vnd.jupyter.widget-view+json": {
       "model_id": "7358dc0b2aa14379be0b17f06fe0a57b",
       "version_major": 2,
       "version_minor": 0
      },
      "text/plain": [
       "Batches:   0%|          | 0/5 [00:00<?, ?it/s]"
      ]
     },
     "metadata": {},
     "output_type": "display_data"
    },
    {
     "data": {
      "application/vnd.jupyter.widget-view+json": {
       "model_id": "5e75dfb9219a40ccada7cac708877665",
       "version_major": 2,
       "version_minor": 0
      },
      "text/plain": [
       "Batches:   0%|          | 0/5 [00:00<?, ?it/s]"
      ]
     },
     "metadata": {},
     "output_type": "display_data"
    },
    {
     "data": {
      "application/vnd.jupyter.widget-view+json": {
       "model_id": "9945d0bc0f58464eb6280c2b38f90d90",
       "version_major": 2,
       "version_minor": 0
      },
      "text/plain": [
       "Batches:   0%|          | 0/5 [00:00<?, ?it/s]"
      ]
     },
     "metadata": {},
     "output_type": "display_data"
    },
    {
     "name": "stdout",
     "output_type": "stream",
     "text": [
      "\n",
      "Generating embeddings for LLM responses...\n"
     ]
    },
    {
     "data": {
      "application/vnd.jupyter.widget-view+json": {
       "model_id": "88749abd92434759b52e025109738e75",
       "version_major": 2,
       "version_minor": 0
      },
      "text/plain": [
       "Batches:   0%|          | 0/5 [00:00<?, ?it/s]"
      ]
     },
     "metadata": {},
     "output_type": "display_data"
    },
    {
     "data": {
      "application/vnd.jupyter.widget-view+json": {
       "model_id": "e92d68ed9bc8433aa841ce248a392dfa",
       "version_major": 2,
       "version_minor": 0
      },
      "text/plain": [
       "Batches:   0%|          | 0/5 [00:00<?, ?it/s]"
      ]
     },
     "metadata": {},
     "output_type": "display_data"
    },
    {
     "data": {
      "application/vnd.jupyter.widget-view+json": {
       "model_id": "8c2812a9f0a44b4aa58b384e7f34cff9",
       "version_major": 2,
       "version_minor": 0
      },
      "text/plain": [
       "Batches:   0%|          | 0/5 [00:00<?, ?it/s]"
      ]
     },
     "metadata": {},
     "output_type": "display_data"
    },
    {
     "data": {
      "application/vnd.jupyter.widget-view+json": {
       "model_id": "9cdea6f55e0f4619996926f58465ae29",
       "version_major": 2,
       "version_minor": 0
      },
      "text/plain": [
       "Batches:   0%|          | 0/5 [00:00<?, ?it/s]"
      ]
     },
     "metadata": {},
     "output_type": "display_data"
    },
    {
     "data": {
      "application/vnd.jupyter.widget-view+json": {
       "model_id": "56e22020b6fe4497bb1467454a7db3d8",
       "version_major": 2,
       "version_minor": 0
      },
      "text/plain": [
       "Batches:   0%|          | 0/5 [00:00<?, ?it/s]"
      ]
     },
     "metadata": {},
     "output_type": "display_data"
    },
    {
     "data": {
      "application/vnd.jupyter.widget-view+json": {
       "model_id": "725fb713eed54615b24a58d50a151445",
       "version_major": 2,
       "version_minor": 0
      },
      "text/plain": [
       "Batches:   0%|          | 0/5 [00:00<?, ?it/s]"
      ]
     },
     "metadata": {},
     "output_type": "display_data"
    },
    {
     "data": {
      "application/vnd.jupyter.widget-view+json": {
       "model_id": "8c024732f90d4a7aa7a50bba37e80f1e",
       "version_major": 2,
       "version_minor": 0
      },
      "text/plain": [
       "Batches:   0%|          | 0/5 [00:00<?, ?it/s]"
      ]
     },
     "metadata": {},
     "output_type": "display_data"
    },
    {
     "data": {
      "application/vnd.jupyter.widget-view+json": {
       "model_id": "c9ec6b53b49a47d6a91653f9cea5725e",
       "version_major": 2,
       "version_minor": 0
      },
      "text/plain": [
       "Batches:   0%|          | 0/5 [00:00<?, ?it/s]"
      ]
     },
     "metadata": {},
     "output_type": "display_data"
    },
    {
     "data": {
      "application/vnd.jupyter.widget-view+json": {
       "model_id": "ce96dd11cb674823b56183b8d76c59f5",
       "version_major": 2,
       "version_minor": 0
      },
      "text/plain": [
       "Batches:   0%|          | 0/5 [00:00<?, ?it/s]"
      ]
     },
     "metadata": {},
     "output_type": "display_data"
    },
    {
     "name": "stdout",
     "output_type": "stream",
     "text": [
      "\n",
      "TITLE Response Analysis:\n",
      "\n",
      "ZERO_SHOT:\n",
      "\n",
      "Basic Statistics:\n",
      "mean: 0.4826\n",
      "median: 0.4599\n",
      "std: 0.1451\n",
      "min: 0.2217\n",
      "max: 0.9529\n",
      "\n",
      "Distribution across categories:\n",
      "Very High: 3.50%\n",
      "High: 16.78%\n",
      "Moderate: 46.85%\n",
      "Low: 32.87%\n",
      "Very Low: 0.00%\n",
      "\n",
      "FEW_SHOT:\n",
      "\n",
      "Basic Statistics:\n",
      "mean: 0.3909\n",
      "median: 0.3729\n",
      "std: 0.0986\n",
      "min: 0.2035\n",
      "max: 0.8134\n",
      "\n",
      "Distribution across categories:\n",
      "Very High: 0.70%\n",
      "High: 3.50%\n",
      "Moderate: 37.06%\n",
      "Low: 58.74%\n",
      "Very Low: 0.00%\n",
      "\n",
      "COT:\n",
      "\n",
      "Basic Statistics:\n",
      "mean: 0.4788\n",
      "median: 0.4556\n",
      "std: 0.1485\n",
      "min: 0.2276\n",
      "max: 0.9752\n",
      "\n",
      "Distribution across categories:\n",
      "Very High: 2.80%\n",
      "High: 16.08%\n",
      "Moderate: 45.45%\n",
      "Low: 35.66%\n",
      "Very Low: 0.00%\n",
      "\n",
      "BODY Response Analysis:\n",
      "\n",
      "ZERO_SHOT:\n",
      "\n",
      "Basic Statistics:\n",
      "mean: 0.6003\n",
      "median: 0.5901\n",
      "std: 0.1229\n",
      "min: 0.2488\n",
      "max: 0.9212\n",
      "\n",
      "Distribution across categories:\n",
      "Very High: 2.80%\n",
      "High: 45.45%\n",
      "Moderate: 47.55%\n",
      "Low: 4.20%\n",
      "Very Low: 0.00%\n",
      "\n",
      "FEW_SHOT:\n",
      "\n",
      "Basic Statistics:\n",
      "mean: 0.4575\n",
      "median: 0.4596\n",
      "std: 0.0822\n",
      "min: 0.2203\n",
      "max: 0.6455\n",
      "\n",
      "Distribution across categories:\n",
      "Very High: 0.00%\n",
      "High: 4.20%\n",
      "Moderate: 72.73%\n",
      "Low: 23.08%\n",
      "Very Low: 0.00%\n",
      "\n",
      "COT:\n",
      "\n",
      "Basic Statistics:\n",
      "mean: 0.5935\n",
      "median: 0.5946\n",
      "std: 0.1237\n",
      "min: 0.3109\n",
      "max: 0.9245\n",
      "\n",
      "Distribution across categories:\n",
      "Very High: 4.20%\n",
      "High: 44.76%\n",
      "Moderate: 43.36%\n",
      "Low: 7.69%\n",
      "Very Low: 0.00%\n",
      "\n",
      "COMBINED Response Analysis:\n",
      "\n",
      "ZERO_SHOT:\n",
      "\n",
      "Basic Statistics:\n",
      "mean: 0.5860\n",
      "median: 0.5798\n",
      "std: 0.1386\n",
      "min: 0.2337\n",
      "max: 0.9101\n",
      "\n",
      "Distribution across categories:\n",
      "Very High: 4.20%\n",
      "High: 43.36%\n",
      "Moderate: 41.96%\n",
      "Low: 10.49%\n",
      "Very Low: 0.00%\n",
      "\n",
      "FEW_SHOT:\n",
      "\n",
      "Basic Statistics:\n",
      "mean: 0.4476\n",
      "median: 0.4512\n",
      "std: 0.0814\n",
      "min: 0.2349\n",
      "max: 0.7106\n",
      "\n",
      "Distribution across categories:\n",
      "Very High: 0.00%\n",
      "High: 1.40%\n",
      "Moderate: 69.23%\n",
      "Low: 29.37%\n",
      "Very Low: 0.00%\n",
      "\n",
      "COT:\n",
      "\n",
      "Basic Statistics:\n",
      "mean: 0.6019\n",
      "median: 0.6059\n",
      "std: 0.1254\n",
      "min: 0.3335\n",
      "max: 0.9300\n",
      "\n",
      "Distribution across categories:\n",
      "Very High: 4.90%\n",
      "High: 46.15%\n",
      "Moderate: 43.36%\n",
      "Low: 5.59%\n",
      "Very Low: 0.00%\n"
     ]
    }
   ],
   "source": [
    "# For gpt_similarity_detection.py and gemini_similarity_detection.py\n",
    "# Just change the paths from 'Data/GPT-4o/' to 'Data/Gemini/' for the Gemini version\n",
    "\n",
    "import pandas as pd\n",
    "import numpy as np\n",
    "from sentence_transformers import SentenceTransformer\n",
    "from sklearn.metrics.pairwise import cosine_similarity\n",
    "import matplotlib.pyplot as plt\n",
    "import seaborn as sns\n",
    "\n",
    "# First set of functions using all-mpnet-base-v1\n",
    "def create_embeddings_and_analyze(df, model_name='sentence-transformers/all-mpnet-base-v1'):\n",
    "    \"\"\"\n",
    "    Create embeddings using SentenceTransformer and analyze similarities for both\n",
    "    separate title/body responses and combined responses\n",
    "    \"\"\"\n",
    "    # Initialize the model\n",
    "    model = SentenceTransformer(model_name)\n",
    "    \n",
    "    # Generate embeddings for original content\n",
    "    print(\"Generating embeddings for original content...\")\n",
    "    title_embeddings = model.encode(df['Title'].tolist(), show_progress_bar=True)\n",
    "    body_embeddings = model.encode(df['Body'].tolist(), show_progress_bar=True)\n",
    "    title_body_embeddings = model.encode(df['Title_Body'].tolist(), show_progress_bar=True)\n",
    "    \n",
    "    # Generate embeddings for LLM responses\n",
    "    print(\"\\nGenerating embeddings for LLM responses...\")\n",
    "    response_embeddings = {\n",
    "        # Title responses\n",
    "        'zero_shot_title': model.encode(df['llm_zero_shot_title'].tolist(), show_progress_bar=True),\n",
    "        'few_shot_title': model.encode(df['llm_few_shot_title'].tolist(), show_progress_bar=True),\n",
    "        'cot_title': model.encode(df['llm_cot_title'].tolist(), show_progress_bar=True),\n",
    "        \n",
    "        # Body responses\n",
    "        'zero_shot_body': model.encode(df['llm_zero_shot_body'].tolist(), show_progress_bar=True),\n",
    "        'few_shot_body': model.encode(df['llm_few_shot_body'].tolist(), show_progress_bar=True),\n",
    "        'cot_body': model.encode(df['llm_cot_body'].tolist(), show_progress_bar=True),\n",
    "        \n",
    "        # Combined responses\n",
    "        'zero_shot_combined': model.encode(df['llm_zero_shot_combined'].tolist(), show_progress_bar=True),\n",
    "        'few_shot_combined': model.encode(df['llm_few_shot_combined'].tolist(), show_progress_bar=True),\n",
    "        'cot_combined': model.encode(df['llm_cot_combined'].tolist(), show_progress_bar=True)\n",
    "    }\n",
    "    \n",
    "    # Calculate similarities\n",
    "    similarities = {\n",
    "        'title': {},\n",
    "        'body': {},\n",
    "        'combined': {}\n",
    "    }\n",
    "    \n",
    "    # Calculate similarities for each type\n",
    "    for response_type in ['zero_shot', 'few_shot', 'cot']:\n",
    "        similarities['title'][response_type] = np.diagonal(\n",
    "            cosine_similarity(title_embeddings, response_embeddings[f'{response_type}_title'])\n",
    "        )\n",
    "        similarities['body'][response_type] = np.diagonal(\n",
    "            cosine_similarity(body_embeddings, response_embeddings[f'{response_type}_body'])\n",
    "        )\n",
    "        similarities['combined'][response_type] = np.diagonal(\n",
    "            cosine_similarity(title_body_embeddings, response_embeddings[f'{response_type}_combined'])\n",
    "        )\n",
    "    \n",
    "    # Add similarity scores to dataframe\n",
    "    for response_type in ['zero_shot', 'few_shot', 'cot']:\n",
    "        df[f'similarity_{response_type}_title'] = similarities['title'][response_type]\n",
    "        df[f'similarity_{response_type}_body'] = similarities['body'][response_type]\n",
    "        df[f'similarity_{response_type}_combined'] = similarities['combined'][response_type]\n",
    "    \n",
    "    # Save embeddings (using GPT-4o path - change to Gemini for gemini version)\n",
    "    np.save('Data/llama-3.2/title_embeddings_st.npy', title_embeddings)\n",
    "    np.save('Data/llama-3.2/body_embeddings_st.npy', body_embeddings)\n",
    "    np.save('Data/llama-3.2/title_body_embeddings_st.npy', title_body_embeddings)\n",
    "    \n",
    "    for response_type, embeddings in response_embeddings.items():\n",
    "        np.save(f'Data/llama-3.2/{response_type}_embeddings_st.npy', embeddings)\n",
    "    \n",
    "    return df, similarities\n",
    "\n",
    "# Second set using MiniLM\n",
    "def create_embeddings_and_analyze_minilm(df):\n",
    "    return create_embeddings_and_analyze(df, model_name='sentence-transformers/all-MiniLM-L6-v2')\n",
    "\n",
    "# Third set using KartonBERT\n",
    "def create_embeddings_and_analyze_kartonbert(df, model_name='OrlikB/KartonBERT-USE-base-v1'):\n",
    "    \"\"\"\n",
    "    Create embeddings using KartonBERT and analyze similarities with normalized embeddings\n",
    "    \"\"\"\n",
    "    # Initialize the model\n",
    "    model = SentenceTransformer(model_name)\n",
    "    \n",
    "    # Generate embeddings for original content\n",
    "    print(\"Generating embeddings for original content...\")\n",
    "    title_embeddings = model.encode(df['Title'].tolist(), normalize_embeddings=True, show_progress_bar=True)\n",
    "    body_embeddings = model.encode(df['Body'].tolist(), normalize_embeddings=True, show_progress_bar=True)\n",
    "    title_body_embeddings = model.encode(df['Title_Body'].tolist(), normalize_embeddings=True, show_progress_bar=True)\n",
    "    \n",
    "    # Generate embeddings for LLM responses\n",
    "    print(\"\\nGenerating embeddings for LLM responses...\")\n",
    "    response_embeddings = {\n",
    "        # Title responses\n",
    "        'zero_shot_title': model.encode(df['llm_zero_shot_title'].tolist(), normalize_embeddings=True, show_progress_bar=True),\n",
    "        'few_shot_title': model.encode(df['llm_few_shot_title'].tolist(), normalize_embeddings=True, show_progress_bar=True),\n",
    "        'cot_title': model.encode(df['llm_cot_title'].tolist(), normalize_embeddings=True, show_progress_bar=True),\n",
    "        \n",
    "        # Body responses\n",
    "        'zero_shot_body': model.encode(df['llm_zero_shot_body'].tolist(), normalize_embeddings=True, show_progress_bar=True),\n",
    "        'few_shot_body': model.encode(df['llm_few_shot_body'].tolist(), normalize_embeddings=True, show_progress_bar=True),\n",
    "        'cot_body': model.encode(df['llm_cot_body'].tolist(), normalize_embeddings=True, show_progress_bar=True),\n",
    "        \n",
    "        # Combined responses\n",
    "        'zero_shot_combined': model.encode(df['llm_zero_shot_combined'].tolist(), normalize_embeddings=True, show_progress_bar=True),\n",
    "        'few_shot_combined': model.encode(df['llm_few_shot_combined'].tolist(), normalize_embeddings=True, show_progress_bar=True),\n",
    "        'cot_combined': model.encode(df['llm_cot_combined'].tolist(), normalize_embeddings=True, show_progress_bar=True)\n",
    "    }\n",
    "    \n",
    "    # Calculate similarities using dot product\n",
    "    similarities = {\n",
    "        'title': {},\n",
    "        'body': {},\n",
    "        'combined': {}\n",
    "    }\n",
    "    \n",
    "    # Calculate similarities for each type\n",
    "    for response_type in ['zero_shot', 'few_shot', 'cot']:\n",
    "        similarities['title'][response_type] = np.sum(\n",
    "            title_embeddings * response_embeddings[f'{response_type}_title'], axis=1\n",
    "        )\n",
    "        similarities['body'][response_type] = np.sum(\n",
    "            body_embeddings * response_embeddings[f'{response_type}_body'], axis=1\n",
    "        )\n",
    "        similarities['combined'][response_type] = np.sum(\n",
    "            title_body_embeddings * response_embeddings[f'{response_type}_combined'], axis=1\n",
    "        )\n",
    "    \n",
    "    # Add similarity scores to dataframe\n",
    "    for response_type in ['zero_shot', 'few_shot', 'cot']:\n",
    "        df[f'similarity_{response_type}_title'] = similarities['title'][response_type]\n",
    "        df[f'similarity_{response_type}_body'] = similarities['body'][response_type]\n",
    "        df[f'similarity_{response_type}_combined'] = similarities['combined'][response_type]\n",
    "    \n",
    "    # Save embeddings (using GPT-4o path - change to Gemini for gemini version)\n",
    "    np.save('Data/llama-3.2/title_embeddings_kartonbert.npy', title_embeddings)\n",
    "    np.save('Data/llama-3.2/body_embeddings_kartonbert.npy', body_embeddings)\n",
    "    np.save('Data/llama-3.2/title_body_embeddings_kartonbert.npy', title_body_embeddings)\n",
    "    \n",
    "    for response_type, embeddings in response_embeddings.items():\n",
    "        np.save(f'Data/llama-3.2/{response_type}_embeddings_kartonbert.npy', embeddings)\n",
    "    \n",
    "    return df, similarities\n",
    "\n",
    "def analyze_similarities(similarities):\n",
    "    \"\"\"\n",
    "    Analyze and visualize similarity distributions for title, body, and combined responses\n",
    "    \"\"\"\n",
    "    categories = {\n",
    "        'Very High': (0.8, 1.0),\n",
    "        'High': (0.6, 0.8),\n",
    "        'Moderate': (0.4, 0.6),\n",
    "        'Low': (0.2, 0.4),\n",
    "        'Very Low': (0.0, 0.2)\n",
    "    }\n",
    "    \n",
    "    results = {\n",
    "        'title': {},\n",
    "        'body': {},\n",
    "        'combined': {}\n",
    "    }\n",
    "    \n",
    "    # Create figures for each type of response\n",
    "    for response_category in ['title', 'body', 'combined']:\n",
    "        fig, axes = plt.subplots(1, 3, figsize=(15, 5))\n",
    "        fig.suptitle(f'Similarity Analysis for {response_category.capitalize()} Responses')\n",
    "        \n",
    "        for idx, response_type in enumerate(['zero_shot', 'few_shot', 'cot']):\n",
    "            scores = similarities[response_category][response_type]\n",
    "            \n",
    "            stats = {\n",
    "                'mean': np.mean(scores),\n",
    "                'median': np.median(scores),\n",
    "                'std': np.std(scores),\n",
    "                'min': np.min(scores),\n",
    "                'max': np.max(scores)\n",
    "            }\n",
    "            \n",
    "            distribution = {}\n",
    "            for category, (low, high) in categories.items():\n",
    "                count = np.sum((scores >= low) & (scores < high))\n",
    "                percentage = (count / len(scores)) * 100\n",
    "                distribution[category] = percentage\n",
    "                \n",
    "            results[response_category][response_type] = {\n",
    "                'statistics': stats,\n",
    "                'distribution': distribution\n",
    "            }\n",
    "            \n",
    "            ax = axes[idx]\n",
    "            sns.histplot(scores, bins=30, ax=ax)\n",
    "            ax.set_title(f'{response_type.replace(\"_\", \" \").title()}')\n",
    "            ax.set_xlabel('Similarity Score')\n",
    "            ax.set_ylabel('Count')\n",
    "            \n",
    "            for category, (low, high) in categories.items():\n",
    "                if low > 0:\n",
    "                    ax.axvline(x=low, color='r', linestyle='--', alpha=0.3)\n",
    "        \n",
    "        plt.tight_layout()\n",
    "        # Save plot (using GPT-4o path - change to Gemini for gemini version)\n",
    "        plt.savefig(f'Data/llama-3.2/similarity_distributions_{response_category}_st.png')\n",
    "        plt.close()\n",
    "    \n",
    "    # Print analysis\n",
    "    for response_category in ['title', 'body', 'combined']:\n",
    "        print(f\"\\n{response_category.upper()} Response Analysis:\")\n",
    "        for response_type, result in results[response_category].items():\n",
    "            print(f\"\\n{response_type.upper()}:\")\n",
    "            print(\"\\nBasic Statistics:\")\n",
    "            for metric, value in result['statistics'].items():\n",
    "                print(f\"{metric}: {value:.4f}\")\n",
    "            \n",
    "            print(\"\\nDistribution across categories:\")\n",
    "            for category, percentage in result['distribution'].items():\n",
    "                print(f\"{category}: {percentage:.2f}%\")\n",
    "    \n",
    "    return results\n",
    "\n",
    "# Main execution\n",
    "if __name__ == \"__main__\":\n",
    "    # Read the combined CSV file (using GPT-4o path - change to Gemini for gemini version)\n",
    "    df = pd.read_csv('Data/llama-3.2/llm_responses_combined.csv')\n",
    "    \n",
    "    # Run analysis with all three models\n",
    "    \n",
    "    # all-mpnet-base-v1\n",
    "    df_with_similarities, similarities = create_embeddings_and_analyze(df)\n",
    "    analysis_results = analyze_similarities(similarities)\n",
    "    df_with_similarities.to_csv('Data/llama-3.2/llm_responses_with_similarities_st.csv', index=False)\n",
    "    \n",
    "    # all-MiniLM-L6-v2\n",
    "    df_with_similarities_minilm, similarities_minilm = create_embeddings_and_analyze_minilm(df)\n",
    "    analysis_results_minilm = analyze_similarities(similarities_minilm)\n",
    "    df_with_similarities_minilm.to_csv('Data/llama-3.2/llm_responses_with_similarities_st_minilm.csv', index=False)\n",
    "    \n",
    "    # KartonBERT\n",
    "    df_with_similarities_kartonbert, similarities_kartonbert = create_embeddings_and_analyze_kartonbert(df)\n",
    "    analysis_results_kartonbert = analyze_similarities(similarities_kartonbert)\n",
    "    df_with_similarities_kartonbert.to_csv('Data/llama-3.2/llm_responses_with_similarities_kartonbert.csv', index=False)"
   ]
  },
  {
   "cell_type": "code",
   "execution_count": 9,
   "metadata": {},
   "outputs": [
    {
     "data": {
      "image/png": "[encoded data removed]",
      "text/plain": [
       "<Figure size 1500x1000 with 1 Axes>"
      ]
     },
     "metadata": {},
     "output_type": "display_data"
    },
    {
     "name": "stdout",
     "output_type": "stream",
     "text": [
      "\n",
      "Statistical Summary for Combined Similarity (MiniLM):\n",
      "       In-Context    Few-Shot  Chain of Thought\n",
      "count  143.000000  143.000000        143.000000\n",
      "mean     0.313258    0.072428          0.356533\n",
      "std      0.225197    0.105036          0.207650\n",
      "min     -0.128491   -0.131273         -0.105576\n",
      "25%      0.132143   -0.001574          0.195196\n",
      "50%      0.294602    0.066393          0.363916\n",
      "75%      0.476511    0.143430          0.495357\n",
      "max      0.875679    0.405257          0.861002\n"
     ]
    }
   ],
   "source": [
    "import pandas as pd\n",
    "import numpy as np\n",
    "import seaborn as sns\n",
    "import matplotlib.pyplot as plt\n",
    "\n",
    "def create_combined_violinplot(df, model_name=\"MiniLM\"):\n",
    "    # Create figure with larger size\n",
    "    plt.figure(figsize=(15, 10))  # Increased figure size\n",
    "    \n",
    "    # Prepare data for combined similarity\n",
    "    data = {\n",
    "        'In-Context': df['similarity_zero_shot_combined'],\n",
    "        'Few-Shot': df['similarity_few_shot_combined'],\n",
    "        'Chain of Thought': df['similarity_cot_combined']\n",
    "    }\n",
    "    \n",
    "    # Create DataFrame for seaborn\n",
    "    plot_data = pd.DataFrame(data)\n",
    "    \n",
    "    # Create violin plot with embedded boxplot\n",
    "    sns.violinplot(data=plot_data, \n",
    "                  palette='Set3',\n",
    "                  inner='box',  # Show boxplot inside violin\n",
    "                  linewidth=3.0,\n",
    "                  saturation=0.7)\n",
    "    \n",
    "    # Customize plot with much larger text\n",
    "    plt.ylabel('Similarity Score', fontsize=36)  # Increased y-label size\n",
    "    plt.grid(True, linestyle='--', alpha=0.7, linewidth=2)\n",
    "    plt.ylim(-0.2, 1.0)\n",
    "    \n",
    "    # Increase x-axis labels size\n",
    "    plt.xticks(fontsize=32)  # Much larger x-axis text\n",
    "    \n",
    "    # Increase y-axis labels size\n",
    "    plt.yticks(fontsize=32)  # Much larger y-axis text\n",
    "    \n",
    "    # Add mean values as text on top with larger font\n",
    "    means = plot_data.mean()\n",
    "    for i, technique in enumerate(['In-Context', 'Few-Shot', 'Chain of Thought']):\n",
    "        mean_val = means[technique]\n",
    "        plt.text(i, 1.05, f'μ={mean_val:.3f}', \n",
    "                horizontalalignment='center', fontsize=32)  # Much larger mean values\n",
    "    \n",
    "    # Adjust layout with more padding\n",
    "    plt.tight_layout(pad=2.0)\n",
    "    \n",
    "    # Save plot as PDF with higher DPI - note the Llama path\n",
    "    plt.savefig(f'Data/llama-3.2/llama_violinplot_combined_similarity_{model_name.lower()}.pdf', \n",
    "                format='pdf', bbox_inches='tight', dpi=600)\n",
    "    plt.show()\n",
    "    \n",
    "    # Print statistical summary\n",
    "    print(f\"\\nStatistical Summary for Combined Similarity ({model_name}):\")\n",
    "    df_stats = pd.DataFrame(data).describe()\n",
    "    print(df_stats)\n",
    "    \n",
    "    # Return the statistical summary for further analysis if needed\n",
    "    return df_stats\n",
    "\n",
    "# Load and process Llama data\n",
    "df = pd.read_csv('Data/llama-3.2/llm_responses_with_similarities_st_minilm.csv')\n",
    "stats = create_combined_violinplot(df)"
   ]
  }
 ],
 "metadata": {
  "kernelspec": {
   "display_name": "Python 3",
   "language": "python",
   "name": "python3"
  },
  "language_info": {
   "codemirror_mode": {
    "name": "ipython",
    "version": 3
   },
   "file_extension": ".py",
   "mimetype": "text/x-python",
   "name": "python",
   "nbconvert_exporter": "python",
   "pygments_lexer": "ipython3",
   "version": "3.11.5"
  },
  "orig_nbformat": 4
 },
 "nbformat": 4,
 "nbformat_minor": 2
}
